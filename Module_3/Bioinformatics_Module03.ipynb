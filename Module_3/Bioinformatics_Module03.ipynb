{
  "cells": [
    {
      "cell_type": "markdown",
      "metadata": {
        "id": "l3h89jAYBUzz"
      },
      "source": [
        "# **<font color=blue>P1.** </font>Rename this notebook **Bioinformatics_Module03.ipynb </font><br>**"
      ]
    },
    {
      "cell_type": "markdown",
      "metadata": {
        "id": "jYlnA2Z2FhoW"
      },
      "source": [
        "# **<font color=blue>P2. </font>**```print()```writes to standard output (i.e. prints output to the screen)"
      ]
    },
    {
      "cell_type": "markdown",
      "metadata": {
        "id": "r118fqQodA9x"
      },
      "source": [
        "####**TASK P2.1:** Print <font color = magenta>hello world</font>"
      ]
    },
    {
      "cell_type": "code",
      "execution_count": null,
      "metadata": {
        "id": "kvxK8D5uFx_x"
      },
      "outputs": [],
      "source": [
        "print(\"hello world\")"
      ]
    },
    {
      "cell_type": "markdown",
      "metadata": {
        "id": "qRj8vCvXG-1k"
      },
      "source": [
        "# **<font color=blue>P3. </font>**```=``` is the ASSIGNMENT operator (assigns values to variables)\n",
        "####**TASK P3.1:** Ask Gemini, \"*Give me 3 examples to help practice understanding the assignment operator.*\""
      ]
    },
    {
      "cell_type": "code",
      "execution_count": null,
      "metadata": {
        "id": "VB8HPNe7JpuJ"
      },
      "outputs": [],
      "source": [
        "x=5\n",
        "x"
      ]
    },
    {
      "cell_type": "markdown",
      "metadata": {
        "id": "s7deJQCHHwOa"
      },
      "source": [
        "# **<font color=blue>P4. </font>** Data types: use ```type()``` to find a variable's \"type\"\n",
        "####**TASK P4.1:** Ask Gemini, \"*Give me examples of each data type to see how they look as outputs.*\""
      ]
    },
    {
      "cell_type": "code",
      "execution_count": null,
      "metadata": {
        "colab": {
          "base_uri": "https://localhost:8080/"
        },
        "id": "ktR75uWIJ0uc",
        "outputId": "3a13d830-94ae-49a8-8f1f-16d97cd46292"
      },
      "outputs": [
        {
          "data": {
            "text/plain": [
              "int"
            ]
          },
          "execution_count": 20,
          "metadata": {},
          "output_type": "execute_result"
        }
      ],
      "source": [
        "type(x))"
      ]
    },
    {
      "cell_type": "markdown",
      "metadata": {
        "id": "GtjxkNHWN5Xo"
      },
      "source": [
        "# **<font color=blue>P5. </font>** Arithmetic and comparison operators\n",
        "####**TASK P5.1:**   Complete Rosalind #1"
      ]
    },
    {
      "cell_type": "code",
      "execution_count": null,
      "metadata": {
        "id": "45s9c4vyQm2U"
      },
      "outputs": [],
      "source": [
        "y=2+3\n",
        "print(y)\n",
        "x==y"
      ]
    },
    {
      "cell_type": "markdown",
      "metadata": {
        "id": "3yswDberkE7N"
      },
      "source": [
        "# **<font color=blue>P6. </font>** ```input()``` gets input from the user"
      ]
    },
    {
      "cell_type": "markdown",
      "metadata": {
        "id": "z97rSY9gqdad"
      },
      "source": [
        "TASK P6.1"
      ]
    },
    {
      "cell_type": "code",
      "execution_count": null,
      "metadata": {
        "colab": {
          "base_uri": "https://localhost:8080/"
        },
        "id": "d91046dd",
        "outputId": "19603f49-902d-4132-ed03-32ca502e3991"
      },
      "outputs": [
        {
          "name": "stdout",
          "output_type": "stream",
          "text": [
            "Enter your name: Jeff\n",
            "Hello, Jeff\n"
          ]
        }
      ],
      "source": [
        "name = input(\"Enter your name: \")\n",
        "print(\"Hello, \" + name)"
      ]
    },
    {
      "cell_type": "markdown",
      "metadata": {
        "id": "e3LaAQeLRmE6"
      },
      "source": [
        "####**TASK P6.1:** Solve Rosalind #1 again, but get user input for the values of a and b rather than modifying the code."
      ]
    },
    {
      "cell_type": "code",
      "execution_count": null,
      "metadata": {
        "id": "wZ0XL0L6Rq2H"
      },
      "outputs": [],
      "source": [
        "a= int(input(\"enter a value for a:\"))\n",
        "b= int(input(\"enter a value for b:\"))\n",
        "c=a**2+b**2\n",
        "print (\"The sq of the hypotenuse is\",c)"
      ]
    },
    {
      "cell_type": "markdown",
      "metadata": {
        "id": "4IM-9eAGkPdi"
      },
      "source": [
        "# **<font color=blue>P7. </font>** ```list``` type variables (create, replace, append)"
      ]
    },
    {
      "cell_type": "markdown",
      "metadata": {
        "id": "DhNGdYK6NEpe"
      },
      "source": [
        "####**TASK P7.1**"
      ]
    },
    {
      "cell_type": "code",
      "execution_count": null,
      "metadata": {
        "id": "N3VRRQIEkXuP"
      },
      "outputs": [],
      "source": [
        "# Create a list with 3 elements and then print them\n",
        "\n",
        "my_list = [\"Hello\", \"World\", \"Charles Darwin\"]\n",
        "print (my_list[1])"
      ]
    },
    {
      "cell_type": "markdown",
      "metadata": {
        "id": "Yn3bAoi8NKy5"
      },
      "source": [
        "####**TASK P7.2**"
      ]
    },
    {
      "cell_type": "code",
      "execution_count": null,
      "metadata": {
        "id": "WNnsUuduOKbI"
      },
      "outputs": [],
      "source": [
        "# Substitute the item at index 2 in the list\n",
        "my_list[2] = \"Alfred R. Wallace\"\n",
        "print (my_list)"
      ]
    },
    {
      "cell_type": "markdown",
      "metadata": {
        "id": "SxiMMNLyPwGV"
      },
      "source": [
        "####**TASK P7.3**"
      ]
    },
    {
      "cell_type": "code",
      "execution_count": null,
      "metadata": {
        "id": "3VrLc6CGQTi-"
      },
      "outputs": [],
      "source": [
        "# Append an item to the end of the list\n",
        "my_list.append(\"Charles Darwin\")\n",
        "print (my_list)"
      ]
    },
    {
      "cell_type": "markdown",
      "metadata": {
        "id": "XQKmwgbfQond"
      },
      "source": [
        "####**TASK P7.4**. Ask Gemini how to <font color=crimson>```insert```</font> a new item at index 1 in the list"
      ]
    },
    {
      "cell_type": "code",
      "execution_count": null,
      "metadata": {
        "id": "u0maP5CZZN13"
      },
      "outputs": [],
      "source": [
        "# On line #2 insert an item at index 1 of my_list\n",
        "\n",
        "print (my_list)"
      ]
    },
    {
      "cell_type": "markdown",
      "metadata": {
        "id": "nlBbe3qBRH_J"
      },
      "source": [
        "# **<font color=blue>P8. </font>** Slicing lists and strings"
      ]
    },
    {
      "cell_type": "markdown",
      "metadata": {
        "id": "M0YW2MP0WtuI"
      },
      "source": [
        "####**TASK P8.1** Slice and print only the middle two elements from the list created in P7 (i.e. only <font color=magenta>World</font> and <font color=magenta>Alfred R. Wallace</font>).  "
      ]
    },
    {
      "cell_type": "code",
      "execution_count": null,
      "metadata": {
        "colab": {
          "base_uri": "https://localhost:8080/"
        },
        "id": "Tp1djNtiaxSb",
        "outputId": "4a31ce1e-1575-4d0f-8860-6096ea8bad83"
      },
      "outputs": [
        {
          "name": "stdout",
          "output_type": "stream",
          "text": [
            "['World', 'Alfred R. Wallace']\n"
          ]
        }
      ],
      "source": [
        "print (my_list[2:4])"
      ]
    },
    {
      "cell_type": "markdown",
      "metadata": {
        "id": "_F9KCUzCd3ID"
      },
      "source": [
        "####**TASK P8.2**: Print <font color=magenta>Wallace World</font> from **my_string** by slicing\n"
      ]
    },
    {
      "cell_type": "code",
      "execution_count": null,
      "metadata": {
        "colab": {
          "base_uri": "https://localhost:8080/"
        },
        "id": "AafKngtba8En",
        "outputId": "5b35aa9b-37ad-4a2f-bc3f-4d3f4358991f"
      },
      "outputs": [
        {
          "name": "stdout",
          "output_type": "stream",
          "text": [
            "Hello World\n",
            "HelloWorldCharlesDarwinAlfred R. Walace HelloWorldCharlesDarwinAlfred R. Walace\n"
          ]
        }
      ],
      "source": [
        "my_string = \"HelloWorldCharlesDarwinAlfred R. Walace\"\n",
        "print (my_string[0:5],my_string[5:10])\n",
        "\n",
        "# in the print command below input the correct index values to complete Task P8.2\n",
        "print (my_string[ : ],my_string[ : ])"
      ]
    },
    {
      "cell_type": "markdown",
      "metadata": {
        "id": "2TTQVE-Xf8jR"
      },
      "source": [
        "####**TASK P8.3**  **<font color = orange> Complete Rosalind Problem #2 Strings and Lists</font>**"
      ]
    },
    {
      "cell_type": "code",
      "execution_count": null,
      "metadata": {
        "id": "LI88f5RZh4GL"
      },
      "outputs": [],
      "source": [
        "# Enter code for Rosalind 2 here:\n",
        "def process_fasta_slice(file_path):\n",
        "    with open(file_path, 'r') as f:\n",
        "        lines = f.read().strip().splitlines()\n",
        "        s = lines[0]\n",
        "        a, b, c, d = map(int, lines[1].split())\n",
        "        return s[a:b+1] + \" \" + s[c:d+1]\n",
        "\n",
        "# Example usage:\n",
        "result = process_fasta_slice(\"rosalind_ini3.txt\")\n",
        "print(result)\n"
      ]
    },
    {
      "cell_type": "markdown",
      "metadata": {
        "id": "Tw6Pwh6TjwJ9"
      },
      "source": [
        "####**<font color=crimson>TASK 8.4 Commit to GitHub**</font>*italicized text*"
      ]
    },
    {
      "cell_type": "markdown",
      "metadata": {
        "id": "iHFNxm30lzic"
      },
      "source": [
        "# **<font color=blue>P9. </font>** ```if``` and ```else``` - conditional output"
      ]
    },
    {
      "cell_type": "markdown",
      "metadata": {
        "id": "WCXnGdftztbN"
      },
      "source": [
        "####**TASK P9.1** Create some code that subtracts two numbers if they are different or adds them if they are the same."
      ]
    },
    {
      "cell_type": "code",
      "execution_count": null,
      "metadata": {
        "id": "KabZsL5Fy8jJ"
      },
      "outputs": [],
      "source": [
        "a=5\n",
        "b=5\n",
        "\n",
        "if a!=b:\n",
        "  print(a-b)\n",
        "\n",
        "else:\n",
        "  print(a+b)"
      ]
    },
    {
      "cell_type": "markdown",
      "metadata": {
        "id": "sOgq54Op4MZL"
      },
      "source": [
        "# **<font color=blue>P10.</font>** ```while``` loops"
      ]
    },
    {
      "cell_type": "markdown",
      "metadata": {
        "id": "JMqGqhTn4l9s"
      },
      "source": [
        "####**TASK P10.1** Create a while loop that runs 3 times\n"
      ]
    },
    {
      "cell_type": "code",
      "execution_count": null,
      "metadata": {
        "id": "07YbiCGO4O1w"
      },
      "outputs": [],
      "source": [
        "#initiate a counter\n",
        "a = 1\n",
        "\n",
        "#print \"Counting!\" while a<=3\n",
        "while a <= 3:\n",
        "\n",
        "    print (\"Counting!\" * a)\n",
        "    #a += 1"
      ]
    },
    {
      "cell_type": "markdown",
      "metadata": {
        "id": "R5_dYi9f6t1z"
      },
      "source": [
        "# **<font color=blue>P11.</font>** ```for``` loops – looping over lists"
      ]
    },
    {
      "cell_type": "markdown",
      "metadata": {
        "id": "x9F7v_V073wO"
      },
      "source": [
        "####**TASK P11.1** Create a for loop to print each item in a list\n"
      ]
    },
    {
      "cell_type": "code",
      "execution_count": null,
      "metadata": {
        "id": "-aqaQ5hz70yo"
      },
      "outputs": [],
      "source": [
        "names = [\"Alice\",\"Bob\",\"Charley\"]\n",
        "\n",
        "for name in names:\n",
        "    print (\"Hello\", name)"
      ]
    },
    {
      "cell_type": "markdown",
      "metadata": {
        "id": "LdtXZ0LW9ugo"
      },
      "source": [
        "# **<font color=blue>P12.</font>** ```for``` loops over a ```range()```of numbers"
      ]
    },
    {
      "cell_type": "markdown",
      "metadata": {
        "id": "jG6jvXEBDi4H"
      },
      "source": [
        "####**TASK 12.1** Using for and range(), create code that prints the numbers 0-9"
      ]
    },
    {
      "cell_type": "code",
      "execution_count": null,
      "metadata": {
        "colab": {
          "base_uri": "https://localhost:8080/"
        },
        "id": "RFBXqQNu_E6X",
        "outputId": "17ea3665-5605-49cb-8207-56ae8b5b34ee"
      },
      "outputs": [
        {
          "name": "stdout",
          "output_type": "stream",
          "text": [
            "0\n",
            "1\n",
            "2\n",
            "3\n",
            "4\n",
            "5\n",
            "6\n",
            "7\n",
            "8\n",
            "9\n"
          ]
        }
      ],
      "source": [
        "# Create a variable to define the  number of iterations\n",
        "iterations = 10\n",
        "\n",
        "#Print the current item's value each time through the loop\n",
        "for number in range(iterations):\n",
        "    print (number)"
      ]
    },
    {
      "cell_type": "markdown",
      "metadata": {
        "id": "NRd5srR_G-PQ"
      },
      "source": [
        "####**TASK 12.2** Modify the code so that it only prints every 3rd number from 9 through 27 (i.e. including 27)"
      ]
    },
    {
      "cell_type": "code",
      "execution_count": null,
      "metadata": {
        "id": "irYTFPO-IRHo"
      },
      "outputs": [],
      "source": []
    },
    {
      "cell_type": "markdown",
      "metadata": {
        "id": "83jDEjpMHXUa"
      },
      "source": [
        "####**TASK 12.3** <font color = orange> **Complete Rosalind Problem #3 Conditions and Loops** </font>"
      ]
    },
    {
      "cell_type": "code",
      "execution_count": null,
      "metadata": {
        "id": "EI7hRtakG90R"
      },
      "outputs": [],
      "source": [
        "# Enter code for Rosalind 3 here:\n"
      ]
    },
    {
      "cell_type": "markdown",
      "metadata": {
        "id": "3P9DKNbPI1wp"
      },
      "source": [
        "####**<font color=crimson>TASK 12.4 Commit to GitHub**</font>"
      ]
    },
    {
      "cell_type": "markdown",
      "metadata": {
        "id": "i4Fo-ddSKWwy"
      },
      "source": [
        "# **<font color=blue>P13.</font>** File I/O – with open(\"filename\", \"mode\") as filehandle:\n"
      ]
    },
    {
      "cell_type": "markdown",
      "metadata": {
        "id": "sgc3wiQmLXcI"
      },
      "source": [
        "####**TASK P13.1** Use the ```read()``` function to print the <font color = orange>practice dataset from Rosalind #4</font>\n"
      ]
    },
    {
      "cell_type": "code",
      "execution_count": null,
      "metadata": {
        "id": "V5nzHsnULA_n"
      },
      "outputs": [],
      "source": [
        "with open(\"practice.txt\",\"r\") as data:\n",
        "\n",
        "    print(data.read())\n",
        "\n",
        "    #print(data.readline())\n",
        "\n",
        "    #print(data.readlines())"
      ]
    },
    {
      "cell_type": "markdown",
      "metadata": {
        "id": "GLO6tBYNVzYZ"
      },
      "source": [
        "####**TASK P13.2** Explore file object functions to read and print practice.txt"
      ]
    },
    {
      "cell_type": "markdown",
      "metadata": {
        "id": "iupO8iI-ZYAe"
      },
      "source": [
        "#<font color=blue>**P14.**</font> Store the content, close the file, and join ( ) the list"
      ]
    },
    {
      "cell_type": "code",
      "execution_count": null,
      "metadata": {
        "id": "8U5w2qOudDyp"
      },
      "outputs": [],
      "source": [
        "with open(\"practice.txt\",\"r\") as data:\n",
        "\n",
        "  list_of_lines=data.readlines()\n",
        "\n",
        "print (list_of_lines)"
      ]
    },
    {
      "cell_type": "markdown",
      "metadata": {
        "id": "5pPhGmQYiiKx"
      },
      "source": [
        "####**TASK P14.1** Read practice.txt into a list of lines. Then, after the file is closed, use the join ( ) function to print the contents so it looks like the original input."
      ]
    },
    {
      "cell_type": "code",
      "execution_count": null,
      "metadata": {
        "id": "XLvFZ9uSeyYH"
      },
      "outputs": [],
      "source": [
        "print (\"_\".join())"
      ]
    },
    {
      "cell_type": "markdown",
      "metadata": {
        "id": "lY924yM0jckW"
      },
      "source": [
        "#<font color=blue>**P15.**</font> Combining for loops with file objects"
      ]
    },
    {
      "cell_type": "markdown",
      "metadata": {
        "id": "NvqGEl4JjpiO"
      },
      "source": [
        "####**TASK P15.1** Use a for loop to print each line in practice.txt"
      ]
    },
    {
      "cell_type": "code",
      "execution_count": null,
      "metadata": {
        "id": "snY-10pUkMby"
      },
      "outputs": [],
      "source": [
        "with open(\"practice.txt\",\"r\") as data:\n",
        "\n",
        "  for line in data:\n",
        "    print (line)"
      ]
    },
    {
      "cell_type": "markdown",
      "metadata": {
        "id": "DHzE7CI4lWGw"
      },
      "source": [
        "####**TASK P15.2** <font color=orange>**Complete Rosalind Problem #4 Working with Files**</font>\n"
      ]
    },
    {
      "cell_type": "code",
      "execution_count": null,
      "metadata": {
        "id": "8QR9dRFtltBN"
      },
      "outputs": [],
      "source": []
    },
    {
      "cell_type": "markdown",
      "metadata": {
        "id": "GJ_acW4WlwDn"
      },
      "source": [
        "####**<font color=crimson>TASK 15.4 Commit to GitHub**</font>"
      ]
    },
    {
      "cell_type": "markdown",
      "metadata": {
        "id": "WD5wnvQkmh6E"
      },
      "source": [
        "#<font color=blue>**P16.**</font> ```for word in line.split()``` – looping over strings and splitting by any delimiter"
      ]
    },
    {
      "cell_type": "markdown",
      "metadata": {
        "id": "kApNvgOLn8lp"
      },
      "source": [
        "####**TASK P16.1** Print each word in the ROSALIND Problem #5 Sample Dataset on a separate line.\n"
      ]
    },
    {
      "cell_type": "code",
      "execution_count": null,
      "metadata": {
        "colab": {
          "base_uri": "https://localhost:8080/"
        },
        "id": "PBjyhwclpKoM",
        "outputId": "afb464a8-3407-43ec-e091-5e57dd22b646"
      },
      "outputs": [
        {
          "name": "stdout",
          "output_type": "stream",
          "text": [
            "We\n",
            "tried\n",
            "list\n",
            "and\n",
            "we\n",
            "tried\n",
            "dicts\n",
            "also\n",
            "we\n",
            "tried\n",
            "Zen\n"
          ]
        }
      ],
      "source": [
        "with open(\"practice_5.txt\",\"r\") as data:\n",
        "\n",
        "  line=data.read()\n",
        "\n",
        "for word in line.split():\n",
        "    print (word)"
      ]
    },
    {
      "cell_type": "markdown",
      "metadata": {
        "id": "kq9QbEttnA4h"
      },
      "source": [
        "#<font color=blue>**P17.**</font> Python Dictionaries { }"
      ]
    },
    {
      "cell_type": "markdown",
      "metadata": {
        "id": "lVudFQkZqJgh"
      },
      "source": [
        "####**TASK 17.1** Create and print your first dictionary"
      ]
    },
    {
      "cell_type": "code",
      "execution_count": null,
      "metadata": {
        "colab": {
          "base_uri": "https://localhost:8080/"
        },
        "id": "IzKFWDlgq6zo",
        "outputId": "1a4d0584-afcb-46ea-fac1-265bbc7bcd89"
      },
      "outputs": [
        {
          "name": "stdout",
          "output_type": "stream",
          "text": [
            "{'H.neandertalensis': 'ACGTCGCTCTGCTA', 'H.sapiens': 'ACGTCACTCTGCTA'}\n",
            "ACGTCACTCTGCTA\n",
            ">H.neandertalensis\n",
            "ACGTCGCTCTGCTA\n",
            ">H.sapiens\n",
            "ACGTCACTCTGCTA\n",
            ">P.troglodytes\n",
            "ACGTCACTCTCCTA\n",
            ">G.gorilla\n",
            "ACGTCCTCCTA\n",
            ">H.erectus\n",
            "ACGTCACTCTGCTA\n"
          ]
        },
        {
          "data": {
            "text/plain": [
              "{'H.neandertalensis': 'ACGTCGCTCTGCTA',\n",
              " 'H.sapiens': 'ACGTCACTCTGCTA',\n",
              " 'P.troglodytes': 'ACGTCACTCTCCTA',\n",
              " 'G.gorilla': 'ACGTCCTCCTA',\n",
              " 'H.erectus': 'ACGTCACTCTGCTA'}"
            ]
          },
          "execution_count": 60,
          "metadata": {},
          "output_type": "execute_result"
        }
      ],
      "source": [
        "sequences = {\n",
        "    \"H.neandertalensis\":\"ACGTCGCTCTGCTA\",\n",
        "    \"H.sapiens\":\"ACGTCACTCTGCTA\"\n",
        "    }\n",
        "\n",
        "print (sequences)"
      ]
    },
    {
      "cell_type": "markdown",
      "metadata": {
        "id": "OvqoT6UwnK0g"
      },
      "source": [
        "#<font color=blue>**P18.**</font> Manipulating and printing dictionaries"
      ]
    },
    {
      "cell_type": "markdown",
      "metadata": {
        "id": "5Be2tcQRrjso"
      },
      "source": [
        "####**TASK 18.1** Modify line 8 to create a fasta file of the hominid sequences"
      ]
    },
    {
      "cell_type": "code",
      "execution_count": null,
      "metadata": {
        "colab": {
          "base_uri": "https://localhost:8080/"
        },
        "id": "b-2XDof4rtP8",
        "outputId": "1e998098-f26e-4df1-fd79-38816a84ee15"
      },
      "outputs": [
        {
          "name": "stdout",
          "output_type": "stream",
          "text": [
            "ACGTCACTCTGCTA\n",
            "H.neandertalensis ACGTCGCTCTGCTA\n",
            "H.sapiens ACGTCACTCTGCTA\n",
            "P.troglodytes ACGTCACTCTCCTA\n",
            "G.gorilla ACGTCCTCCTA\n",
            "H.erectus ACGTCACTCTGCTA\n"
          ]
        }
      ],
      "source": [
        "sequences[\"P.troglodytes\"]=\"ACGTCACTCTCCTA\"\n",
        "\n",
        "sequences.update({\"G.gorilla\":\"ACGTCCTCCTA\", \"H.erectus\":\"ACGTCACTCTGCTA\"})\n",
        "\n",
        "print (sequences[\"H.sapiens\"])\n",
        "\n",
        "for key,value in sequences.items():\n",
        "     print (key,value)"
      ]
    },
    {
      "cell_type": "markdown",
      "metadata": {
        "id": "Y98OZYUNvmWD"
      },
      "source": [
        "####**TASK P18.2** <font color= orange>**Complete Rosalind Problem #5  Dictionaries**</font>"
      ]
    },
    {
      "cell_type": "code",
      "execution_count": null,
      "metadata": {
        "id": "lD3KoTY9wWa7"
      },
      "outputs": [],
      "source": []
    },
    {
      "cell_type": "markdown",
      "metadata": {
        "id": "1dJdfy4bwVO4"
      },
      "source": [
        "####**<font color=crimson>TASK 18.3 Commit to GitHub**</font>"
      ]
    },
    {
      "cell_type": "markdown",
      "metadata": {
        "id": "28ygQlYJnZoA"
      },
      "source": [
        "#<font color=blue>**P19.**</font> ```count()``` – counting things made easy"
      ]
    },
    {
      "cell_type": "markdown",
      "metadata": {
        "id": "CZ9tBWDmw4D-"
      },
      "source": [
        "####**TASK P19.1** <font color= orange>**Complete Rosalind Problem #6  Counting DNA Nucleotides**</font>"
      ]
    },
    {
      "cell_type": "code",
      "execution_count": null,
      "metadata": {
        "id": "GlwS14zGxBIC"
      },
      "outputs": [],
      "source": []
    },
    {
      "cell_type": "markdown",
      "metadata": {
        "id": "rj-OWB6Jym5y"
      },
      "source": [
        "####**TASK P19.2** Modify your code for the Rosalind #5 Dictionary problem so that it uses count( ) to count the words."
      ]
    },
    {
      "cell_type": "code",
      "execution_count": null,
      "metadata": {
        "id": "9H_S6jLnzfxR"
      },
      "outputs": [],
      "source": []
    },
    {
      "cell_type": "markdown",
      "metadata": {
        "id": "RzMon_wAzg7D"
      },
      "source": [
        "####**<font color=crimson>TASK 19.3 Commit to GitHub**</font>\n"
      ]
    },
    {
      "cell_type": "markdown",
      "metadata": {
        "id": "-IB0c2gG0Z1O"
      },
      "source": [
        "#<font color=blue>**P20.**</font> Installing biopython"
      ]
    },
    {
      "cell_type": "code",
      "execution_count": null,
      "metadata": {
        "colab": {
          "base_uri": "https://localhost:8080/"
        },
        "id": "pinPQdEn0mJM",
        "outputId": "87a0b9ae-2c9d-447f-8eca-d9020b2b713a"
      },
      "outputs": [
        {
          "name": "stdout",
          "output_type": "stream",
          "text": [
            "Collecting biopython\n",
            "  Downloading biopython-1.85-cp312-cp312-manylinux_2_17_x86_64.manylinux2014_x86_64.whl.metadata (13 kB)\n",
            "Requirement already satisfied: numpy in /usr/local/lib/python3.12/dist-packages (from biopython) (2.0.2)\n",
            "Downloading biopython-1.85-cp312-cp312-manylinux_2_17_x86_64.manylinux2014_x86_64.whl (3.3 MB)\n",
            "\u001b[2K   \u001b[90m━━━━━━━━━━━━━━━━━━━━━━━━━━━━━━━━━━━━━━━━\u001b[0m \u001b[32m3.3/3.3 MB\u001b[0m \u001b[31m36.0 MB/s\u001b[0m eta \u001b[36m0:00:00\u001b[0m\n",
            "\u001b[?25hInstalling collected packages: biopython\n",
            "Successfully installed biopython-1.85\n"
          ]
        }
      ],
      "source": [
        "!pip install biopython"
      ]
    },
    {
      "cell_type": "code",
      "execution_count": null,
      "metadata": {
        "colab": {
          "base_uri": "https://localhost:8080/"
        },
        "id": "5ccd6f0b",
        "outputId": "e0650d46-1501-47ef-e6c0-98c374646574"
      },
      "outputs": [
        {
          "name": "stdout",
          "output_type": "stream",
          "text": [
            "Biopython is installed correctly.\n"
          ]
        }
      ],
      "source": [
        "try:\n",
        "  from Bio.Seq import Seq\n",
        "  print(\"Biopython is installed correctly.\")\n",
        "except ImportError:\n",
        "  print(\"Biopython is not installed or there was an import error.\")"
      ]
    },
    {
      "cell_type": "markdown",
      "metadata": {
        "id": "IGX-ThdQ3RuA"
      },
      "source": [
        "#<font color=blue>**P21.**</font> Seq( ) – a function to define sequence objects"
      ]
    },
    {
      "cell_type": "code",
      "execution_count": null,
      "metadata": {
        "id": "ltZBr8mE4OhM"
      },
      "outputs": [],
      "source": [
        "from Bio.Seq import Seq\n",
        "\n",
        "my_sequence = Seq(\"GATGGAACTTGACTACGTAAATT\")"
      ]
    },
    {
      "cell_type": "markdown",
      "metadata": {
        "id": "UXCuEFxg6Jxx"
      },
      "source": [
        "####**TASK BP21.2** <font color=orange> **Complete Rosalind #7 Transcribing DNA into RNA**</font>"
      ]
    },
    {
      "cell_type": "code",
      "execution_count": null,
      "metadata": {
        "id": "UXt6gWLM6qde"
      },
      "outputs": [],
      "source": []
    },
    {
      "cell_type": "markdown",
      "metadata": {
        "id": "9P4_MaXp6O3n"
      },
      "source": [
        "####**TASK BP21.2** <font color=orange> **Complete Rosalind #8  Translating RNA into Protein**</font>"
      ]
    },
    {
      "cell_type": "code",
      "execution_count": null,
      "metadata": {
        "id": "5Rzzfzij6q2P"
      },
      "outputs": [],
      "source": []
    },
    {
      "cell_type": "markdown",
      "metadata": {
        "id": "dvtR4N7L6sZ_"
      },
      "source": [
        "####**<font color=crimson>TASK 21.3 Commit to GitHub**</font>"
      ]
    },
    {
      "cell_type": "markdown",
      "metadata": {
        "id": "bDJqtRiX3fEG"
      },
      "source": [
        "#<font color=blue>**P22.**</font> SeqIO – a function to parse( ) sequence files"
      ]
    },
    {
      "cell_type": "markdown",
      "metadata": {
        "id": "VKyMhLjx7nIo"
      },
      "source": [
        "####**TASK BP 22.1** Read in the practice dataset from Rosalind #9 and print the id of each sequence in the file."
      ]
    },
    {
      "cell_type": "code",
      "execution_count": null,
      "metadata": {
        "colab": {
          "base_uri": "https://localhost:8080/"
        },
        "id": "xUi3JEoh7yJ6",
        "outputId": "0268cd9f-2c8c-4763-d3bd-02d54c9b0afd"
      },
      "outputs": [
        {
          "name": "stdout",
          "output_type": "stream",
          "text": [
            "Rosalind_6404\n",
            "CCTGCGGAAGATCGGCACTAGAATAGCCAGAACCGTTTCTCTGAGGCTTCCGGCCTTCCCTCCCACTAATAATTCTGAGG\n",
            "80\n",
            "ID: Rosalind_6404\n",
            "Name: Rosalind_6404\n",
            "Description: Rosalind_6404\n",
            "Number of features: 0\n",
            "Seq('CCTGCGGAAGATCGGCACTAGAATAGCCAGAACCGTTTCTCTGAGGCTTCCGGC...AGG')\n",
            "Rosalind_5959\n",
            "CCATCGGTAGCGCATCCTTAGTCCAATTAAGTCCCTATCCAGGCGCTCCGCCGAAGGTCTATATCCATTTGTCAGCAGACACGC\n",
            "84\n",
            "ID: Rosalind_5959\n",
            "Name: Rosalind_5959\n",
            "Description: Rosalind_5959\n",
            "Number of features: 0\n",
            "Seq('CCATCGGTAGCGCATCCTTAGTCCAATTAAGTCCCTATCCAGGCGCTCCGCCGA...CGC')\n",
            "Rosalind_0808\n",
            "CCACCCTCGTGGTATGGCTAGGCATTCAGGAACCGGAGAACGCTTCAGACCAGCCCGGACTGGGAACCTGCGGGCAGTAGGTGGAAT\n",
            "87\n",
            "ID: Rosalind_0808\n",
            "Name: Rosalind_0808\n",
            "Description: Rosalind_0808\n",
            "Number of features: 0\n",
            "Seq('CCACCCTCGTGGTATGGCTAGGCATTCAGGAACCGGAGAACGCTTCAGACCAGC...AAT')\n"
          ]
        }
      ],
      "source": [
        "from Bio.SeqIO import parse\n",
        "\n",
        "for seq_record in parse(\"practice_9.txt\", \"fasta\"):\n",
        "    print (seq_record.id)\n",
        "    print (seq_record.seq)\n",
        "    print (len(seq_record.seq))\n",
        "    print (seq_record)"
      ]
    },
    {
      "cell_type": "markdown",
      "metadata": {
        "id": "SAjUYBpe3pwi"
      },
      "source": [
        "#<font color=blue>**P23.**</font> SeqUtils.gc_fraction( ) – a function to compute GC content"
      ]
    },
    {
      "cell_type": "markdown",
      "metadata": {
        "id": "kEjUu8HfHniC"
      },
      "source": [
        "####**TASK P23.1** Modify the script from TASK P22.1 so that it prints the GC content for each sequence in the file"
      ]
    },
    {
      "cell_type": "markdown",
      "metadata": {
        "id": "nJeXcQR7HwOf"
      },
      "source": [
        "####**TASK P23.2** <font color=orange> **Complete Rosalind #9  Computing GC Content**</font>"
      ]
    },
    {
      "cell_type": "markdown",
      "metadata": {
        "id": "gavUUL39INzP"
      },
      "source": [
        "####**<font color=crimson>TASK 23.3 Commit to GitHub**</font>"
      ]
    },
    {
      "cell_type": "markdown",
      "metadata": {
        "id": "Zf_OZq9R0dnq"
      },
      "source": []
    }
  ],
  "metadata": {
    "colab": {
      "collapsed_sections": [
        "jYlnA2Z2FhoW",
        "qRj8vCvXG-1k",
        "s7deJQCHHwOa",
        "GtjxkNHWN5Xo",
        "3yswDberkE7N",
        "4IM-9eAGkPdi",
        "nlBbe3qBRH_J",
        "_F9KCUzCd3ID",
        "iHFNxm30lzic",
        "sOgq54Op4MZL",
        "R5_dYi9f6t1z",
        "LdtXZ0LW9ugo",
        "i4Fo-ddSKWwy",
        "iupO8iI-ZYAe",
        "lY924yM0jckW",
        "NvqGEl4JjpiO",
        "DHzE7CI4lWGw",
        "WD5wnvQkmh6E",
        "kApNvgOLn8lp",
        "kq9QbEttnA4h"
      ],
      "provenance": []
    },
    "kernelspec": {
      "display_name": "Python 3",
      "name": "python3"
    },
    "language_info": {
      "name": "python"
    }
  },
  "nbformat": 4,
  "nbformat_minor": 0
}
