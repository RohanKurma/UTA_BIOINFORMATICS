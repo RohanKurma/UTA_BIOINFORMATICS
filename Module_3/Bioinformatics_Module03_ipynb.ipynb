{
  "nbformat": 4,
  "nbformat_minor": 0,
  "metadata": {
    "colab": {
      "provenance": [],
      "collapsed_sections": [
        "iupO8iI-ZYAe",
        "lY924yM0jckW",
        "NvqGEl4JjpiO",
        "DHzE7CI4lWGw",
        "WD5wnvQkmh6E",
        "kApNvgOLn8lp",
        "kq9QbEttnA4h"
      ]
    },
    "kernelspec": {
      "name": "python3",
      "display_name": "Python 3"
    },
    "language_info": {
      "name": "python"
    }
  },
  "cells": [
    {
      "cell_type": "markdown",
      "source": [
        "# **<font color=blue>P1.** </font>Rename this notebook **Bioinformatics_Module03.ipynb </font><br>**"
      ],
      "metadata": {
        "id": "l3h89jAYBUzz"
      }
    },
    {
      "cell_type": "markdown",
      "source": [
        "# **<font color=blue>P2. </font>**```print()```writes to standard output (i.e. prints output to the screen)"
      ],
      "metadata": {
        "id": "jYlnA2Z2FhoW"
      }
    },
    {
      "cell_type": "markdown",
      "source": [
        "####**TASK P2.1:** Print <font color = magenta>hello world</font>"
      ],
      "metadata": {
        "id": "r118fqQodA9x"
      }
    },
    {
      "cell_type": "code",
      "source": [
        "print(\"hello world\")"
      ],
      "metadata": {
        "id": "kvxK8D5uFx_x",
        "colab": {
          "base_uri": "https://localhost:8080/"
        },
        "outputId": "3ae8fa05-fd29-4e88-8537-622bf6ad8894"
      },
      "execution_count": 1,
      "outputs": [
        {
          "output_type": "stream",
          "name": "stdout",
          "text": [
            "hello world\n"
          ]
        }
      ]
    },
    {
      "cell_type": "markdown",
      "source": [
        "# **<font color=blue>P3. </font>**```=``` is the ASSIGNMENT operator (assigns values to variables)\n",
        "####**TASK P3.1:** Ask Gemini, \"*Give me 3 examples to help practice understanding the assignment operator.*\""
      ],
      "metadata": {
        "id": "qRj8vCvXG-1k"
      }
    },
    {
      "cell_type": "code",
      "source": [
        "x=5\n",
        "x"
      ],
      "metadata": {
        "id": "VB8HPNe7JpuJ",
        "colab": {
          "base_uri": "https://localhost:8080/"
        },
        "outputId": "87d16c16-7612-4617-8dba-f7fe3ea25bf7"
      },
      "execution_count": 2,
      "outputs": [
        {
          "output_type": "execute_result",
          "data": {
            "text/plain": [
              "5"
            ]
          },
          "metadata": {},
          "execution_count": 2
        }
      ]
    },
    {
      "cell_type": "markdown",
      "source": [
        "# **<font color=blue>P4. </font>** Data types: use ```type()``` to find a variable's \"type\"\n",
        "####**TASK P4.1:** Ask Gemini, \"*Give me examples of each data type to see how they look as outputs.*\""
      ],
      "metadata": {
        "id": "s7deJQCHHwOa"
      }
    },
    {
      "cell_type": "code",
      "source": [
        "type(x)"
      ],
      "metadata": {
        "colab": {
          "base_uri": "https://localhost:8080/"
        },
        "id": "ktR75uWIJ0uc",
        "outputId": "8ed3ac83-a743-4907-8a75-481ac4266c37"
      },
      "execution_count": 4,
      "outputs": [
        {
          "output_type": "execute_result",
          "data": {
            "text/plain": [
              "int"
            ]
          },
          "metadata": {},
          "execution_count": 4
        }
      ]
    },
    {
      "cell_type": "markdown",
      "source": [
        "# **<font color=blue>P5. </font>** Arithmetic and comparison operators\n",
        "####**TASK P5.1:**   Complete Rosalind #1"
      ],
      "metadata": {
        "id": "GtjxkNHWN5Xo"
      }
    },
    {
      "cell_type": "code",
      "source": [
        "y=2+3\n",
        "print(y)\n",
        "x==y"
      ],
      "metadata": {
        "id": "45s9c4vyQm2U",
        "colab": {
          "base_uri": "https://localhost:8080/"
        },
        "outputId": "3e16857c-a229-4b51-d1e8-2cb82c54392b"
      },
      "execution_count": 5,
      "outputs": [
        {
          "output_type": "stream",
          "name": "stdout",
          "text": [
            "5\n"
          ]
        },
        {
          "output_type": "execute_result",
          "data": {
            "text/plain": [
              "True"
            ]
          },
          "metadata": {},
          "execution_count": 5
        }
      ]
    },
    {
      "cell_type": "markdown",
      "source": [
        "# **<font color=blue>P6. </font>** ```input()``` gets input from the user"
      ],
      "metadata": {
        "id": "3yswDberkE7N"
      }
    },
    {
      "cell_type": "markdown",
      "source": [
        "TASK P6.1"
      ],
      "metadata": {
        "id": "z97rSY9gqdad"
      }
    },
    {
      "cell_type": "code",
      "metadata": {
        "colab": {
          "base_uri": "https://localhost:8080/"
        },
        "id": "d91046dd",
        "outputId": "cb90ca41-ee4c-431b-da28-f6769ce55f4c"
      },
      "source": [
        "name = input(\"Enter your name: \")\n",
        "print(\"Hello, \" + name)"
      ],
      "execution_count": 6,
      "outputs": [
        {
          "output_type": "stream",
          "name": "stdout",
          "text": [
            "Enter your name: Rohan Kurma\n",
            "Hello, Rohan Kurma\n"
          ]
        }
      ]
    },
    {
      "cell_type": "markdown",
      "source": [
        "\n",
        "####**TASK P6.1:** Solve Rosalind #1 again, but get user input for the values of a and b rather than modifying the code."
      ],
      "metadata": {
        "id": "e3LaAQeLRmE6"
      }
    },
    {
      "cell_type": "code",
      "source": [
        "a= int(input(\"enter a value for a:\"))\n",
        "b= int(input(\"enter a value for b:\"))\n",
        "c=a**2+b**2\n",
        "print (\"The sq of the hypotenuse is\",c)"
      ],
      "metadata": {
        "id": "wZ0XL0L6Rq2H",
        "colab": {
          "base_uri": "https://localhost:8080/"
        },
        "outputId": "0739027b-0725-4302-a4ba-01c2d564f1b3"
      },
      "execution_count": 7,
      "outputs": [
        {
          "output_type": "stream",
          "name": "stdout",
          "text": [
            "enter a value for a:2\n",
            "enter a value for b:3\n",
            "The sq of the hypotenuse is 13\n"
          ]
        }
      ]
    },
    {
      "cell_type": "markdown",
      "source": [
        "# **<font color=blue>P7. </font>** ```list``` type variables (create, replace, append)"
      ],
      "metadata": {
        "id": "4IM-9eAGkPdi"
      }
    },
    {
      "cell_type": "markdown",
      "source": [
        "####**TASK P7.1**"
      ],
      "metadata": {
        "id": "DhNGdYK6NEpe"
      }
    },
    {
      "cell_type": "code",
      "source": [
        "# Create a list with 3 elements and then print them\n",
        "\n",
        "my_list = [\"Hello\", \"World\", \"Charles Darwin\"]\n",
        "print (my_list[1])"
      ],
      "metadata": {
        "id": "N3VRRQIEkXuP",
        "colab": {
          "base_uri": "https://localhost:8080/"
        },
        "outputId": "d88b1f59-2817-48a1-dad5-152e362355f7"
      },
      "execution_count": 8,
      "outputs": [
        {
          "output_type": "stream",
          "name": "stdout",
          "text": [
            "World\n"
          ]
        }
      ]
    },
    {
      "cell_type": "markdown",
      "source": [
        "####**TASK P7.2**"
      ],
      "metadata": {
        "id": "Yn3bAoi8NKy5"
      }
    },
    {
      "cell_type": "code",
      "source": [
        "# Substitute the item at index 2 in the list\n",
        "my_list[2] = \"Alfred R. Wallace\"\n",
        "print (my_list)"
      ],
      "metadata": {
        "id": "WNnsUuduOKbI",
        "colab": {
          "base_uri": "https://localhost:8080/"
        },
        "outputId": "4fc0d1eb-1770-46a6-acec-c692e9efb96b"
      },
      "execution_count": 9,
      "outputs": [
        {
          "output_type": "stream",
          "name": "stdout",
          "text": [
            "['Hello', 'World', 'Alfred R. Wallace']\n"
          ]
        }
      ]
    },
    {
      "cell_type": "markdown",
      "source": [
        "####**TASK P7.3**"
      ],
      "metadata": {
        "id": "SxiMMNLyPwGV"
      }
    },
    {
      "cell_type": "code",
      "source": [
        "# Append an item to the end of the list\n",
        "my_list.append(\"Charles Darwin\")\n",
        "print (my_list)"
      ],
      "metadata": {
        "id": "3VrLc6CGQTi-",
        "colab": {
          "base_uri": "https://localhost:8080/"
        },
        "outputId": "2104ad82-664d-4048-86e9-38d46ee2e0e2"
      },
      "execution_count": 10,
      "outputs": [
        {
          "output_type": "stream",
          "name": "stdout",
          "text": [
            "['Hello', 'World', 'Alfred R. Wallace', 'Charles Darwin']\n"
          ]
        }
      ]
    },
    {
      "cell_type": "markdown",
      "source": [
        "####**TASK P7.4**. Ask Gemini how to <font color=crimson>```insert```</font> a new item at index 1 in the list"
      ],
      "metadata": {
        "id": "XQKmwgbfQond"
      }
    },
    {
      "cell_type": "code",
      "source": [
        "# On line #2 insert an item at index 1 of my_list\n",
        "\n",
        "print (my_list)"
      ],
      "metadata": {
        "id": "u0maP5CZZN13",
        "colab": {
          "base_uri": "https://localhost:8080/"
        },
        "outputId": "e7688d60-1c1c-439c-a969-3f9e0ba5bc93"
      },
      "execution_count": 11,
      "outputs": [
        {
          "output_type": "stream",
          "name": "stdout",
          "text": [
            "['Hello', 'World', 'Alfred R. Wallace', 'Charles Darwin']\n"
          ]
        }
      ]
    },
    {
      "cell_type": "markdown",
      "source": [
        "# **<font color=blue>P8. </font>** Slicing lists and strings"
      ],
      "metadata": {
        "id": "nlBbe3qBRH_J"
      }
    },
    {
      "cell_type": "markdown",
      "source": [
        "####**TASK P8.1** Slice and print only the middle two elements from the list created in P7 (i.e. only <font color=magenta>World</font> and <font color=magenta>Alfred R. Wallace</font>).  "
      ],
      "metadata": {
        "id": "M0YW2MP0WtuI"
      }
    },
    {
      "cell_type": "code",
      "source": [
        "print (my_list[2:4])"
      ],
      "metadata": {
        "colab": {
          "base_uri": "https://localhost:8080/"
        },
        "id": "Tp1djNtiaxSb",
        "outputId": "d59051ab-faab-4826-fad4-a9ba97d33bc5"
      },
      "execution_count": 12,
      "outputs": [
        {
          "output_type": "stream",
          "name": "stdout",
          "text": [
            "['Alfred R. Wallace', 'Charles Darwin']\n"
          ]
        }
      ]
    },
    {
      "cell_type": "markdown",
      "source": [
        "####**TASK P8.2**: Print <font color=magenta>Wallace World</font> from **my_string** by slicing\n"
      ],
      "metadata": {
        "id": "_F9KCUzCd3ID"
      }
    },
    {
      "cell_type": "code",
      "source": [
        "my_string = \"HelloWorldCharlesDarwinAlfred R. Walace\"\n",
        "print (my_string[0:5],my_string[5:10])\n",
        "\n",
        "# in the print command below input the correct index values to complete Task P8.2\n",
        "print (my_string[-6:],my_string[5 : 10])"
      ],
      "metadata": {
        "colab": {
          "base_uri": "https://localhost:8080/"
        },
        "id": "AafKngtba8En",
        "outputId": "e9856a33-8819-4fa6-e431-93cf3feb94cc"
      },
      "execution_count": 20,
      "outputs": [
        {
          "output_type": "stream",
          "name": "stdout",
          "text": [
            "Hello World\n",
            "Walace World\n"
          ]
        }
      ]
    },
    {
      "cell_type": "markdown",
      "source": [
        "####**TASK P8.3**  **<font color = orange> Complete Rosalind Problem #2 Strings and Lists</font>**"
      ],
      "metadata": {
        "id": "2TTQVE-Xf8jR"
      }
    },
    {
      "cell_type": "code",
      "source": [
        "# Enter code for Rosalind 2 here:\n",
        "\n",
        "sampleData = \"\"\"HumptyDumptysatonawallHumptyDumptyhadagreatfallAlltheKingshorsesandalltheKingsmenCouldntputHumptyDumptyinhisplaceagain.\n",
        "22 27 97 102\n",
        "\"\"\"\n",
        "\n",
        "print(sampleData[0:6], sampleData[6:12])\n",
        "\n",
        "#\n",
        "\n"
      ],
      "metadata": {
        "id": "LI88f5RZh4GL",
        "colab": {
          "base_uri": "https://localhost:8080/"
        },
        "outputId": "526f581b-df72-4494-a783-909bd7a3a46e"
      },
      "execution_count": 23,
      "outputs": [
        {
          "output_type": "stream",
          "name": "stdout",
          "text": [
            "Humpty Dumpty\n"
          ]
        }
      ]
    },
    {
      "cell_type": "markdown",
      "source": [
        "####**<font color=crimson>TASK 8.4 Commit to GitHub**</font>*italicized text*"
      ],
      "metadata": {
        "id": "Tw6Pwh6TjwJ9"
      }
    },
    {
      "cell_type": "markdown",
      "source": [
        "# **<font color=blue>P9. </font>** ```if``` and ```else``` - conditional output"
      ],
      "metadata": {
        "id": "iHFNxm30lzic"
      }
    },
    {
      "cell_type": "markdown",
      "source": [
        "####**TASK P9.1** Create some code that subtracts two numbers if they are different or adds them if they are the same."
      ],
      "metadata": {
        "id": "WCXnGdftztbN"
      }
    },
    {
      "cell_type": "code",
      "source": [
        "a=5\n",
        "b=5\n",
        "\n",
        "if a!=b:\n",
        "  print(a-b)\n",
        "\n",
        "else:\n",
        "  print(a+b)"
      ],
      "metadata": {
        "id": "KabZsL5Fy8jJ",
        "colab": {
          "base_uri": "https://localhost:8080/"
        },
        "outputId": "212e1391-a226-4e5f-e17c-38ffa9cef319"
      },
      "execution_count": 24,
      "outputs": [
        {
          "output_type": "stream",
          "name": "stdout",
          "text": [
            "10\n"
          ]
        }
      ]
    },
    {
      "cell_type": "markdown",
      "source": [
        "# **<font color=blue>P10.</font>** ```while``` loops"
      ],
      "metadata": {
        "id": "sOgq54Op4MZL"
      }
    },
    {
      "cell_type": "markdown",
      "source": [
        "####**TASK P10.1** Create a while loop that runs 3 times\n"
      ],
      "metadata": {
        "id": "JMqGqhTn4l9s"
      }
    },
    {
      "cell_type": "code",
      "source": [
        "#initiate a counter\n",
        "a = 1\n",
        "\n",
        "#print \"Counting!\" while a<=3\n",
        "while a <= 3:\n",
        "\n",
        "    print (\"Counting!\" * a)\n",
        "    a += 1"
      ],
      "metadata": {
        "id": "07YbiCGO4O1w",
        "colab": {
          "base_uri": "https://localhost:8080/"
        },
        "outputId": "bb42e379-ce44-429a-acfd-2a6839c61d37"
      },
      "execution_count": 26,
      "outputs": [
        {
          "output_type": "stream",
          "name": "stdout",
          "text": [
            "Counting!\n",
            "Counting!Counting!\n",
            "Counting!Counting!Counting!\n"
          ]
        }
      ]
    },
    {
      "cell_type": "markdown",
      "source": [
        "# **<font color=blue>P11.</font>** ```for``` loops – looping over lists"
      ],
      "metadata": {
        "id": "R5_dYi9f6t1z"
      }
    },
    {
      "cell_type": "markdown",
      "source": [
        "####**TASK P11.1** Create a for loop to print each item in a list\n"
      ],
      "metadata": {
        "id": "x9F7v_V073wO"
      }
    },
    {
      "cell_type": "code",
      "source": [
        "names = [\"Alice\",\"Bob\",\"Charley\"]\n",
        "\n",
        "for name in names:\n",
        "    print (\"Hello\", name)"
      ],
      "metadata": {
        "id": "-aqaQ5hz70yo",
        "colab": {
          "base_uri": "https://localhost:8080/"
        },
        "outputId": "e6e2e46a-1cab-4c5d-aabc-18006bcd17b6"
      },
      "execution_count": 27,
      "outputs": [
        {
          "output_type": "stream",
          "name": "stdout",
          "text": [
            "Hello Alice\n",
            "Hello Bob\n",
            "Hello Charley\n"
          ]
        }
      ]
    },
    {
      "cell_type": "markdown",
      "source": [
        "# **<font color=blue>P12.</font>** ```for``` loops over a ```range()```of numbers"
      ],
      "metadata": {
        "id": "LdtXZ0LW9ugo"
      }
    },
    {
      "cell_type": "markdown",
      "source": [
        "####**TASK 12.1** Using for and range(), create code that prints the numbers 0-9"
      ],
      "metadata": {
        "id": "jG6jvXEBDi4H"
      }
    },
    {
      "cell_type": "code",
      "source": [
        "# Create a variable to define the  number of iterations\n",
        "iterations = 10\n",
        "\n",
        "#Print the current item's value each time through the loop\n",
        "for number in range(iterations):\n",
        "    print (number)"
      ],
      "metadata": {
        "colab": {
          "base_uri": "https://localhost:8080/"
        },
        "id": "RFBXqQNu_E6X",
        "outputId": "84e08712-29cb-4271-87c3-3de2b7153786"
      },
      "execution_count": 28,
      "outputs": [
        {
          "output_type": "stream",
          "name": "stdout",
          "text": [
            "0\n",
            "1\n",
            "2\n",
            "3\n",
            "4\n",
            "5\n",
            "6\n",
            "7\n",
            "8\n",
            "9\n"
          ]
        }
      ]
    },
    {
      "cell_type": "markdown",
      "source": [
        "####**TASK 12.2** Modify the code so that it only prints every 3rd number from 9 through 27 (i.e. including 27)"
      ],
      "metadata": {
        "id": "NRd5srR_G-PQ"
      }
    },
    {
      "cell_type": "code",
      "source": [
        "for i in range(9,28,2):\n",
        "    print (i)"
      ],
      "metadata": {
        "id": "irYTFPO-IRHo",
        "colab": {
          "base_uri": "https://localhost:8080/"
        },
        "outputId": "e506da33-180a-4da0-8782-d31b76c4e3bd"
      },
      "execution_count": 35,
      "outputs": [
        {
          "output_type": "stream",
          "name": "stdout",
          "text": [
            "9\n",
            "11\n",
            "13\n",
            "15\n",
            "17\n",
            "19\n",
            "21\n",
            "23\n",
            "25\n",
            "27\n"
          ]
        }
      ]
    },
    {
      "cell_type": "markdown",
      "source": [
        "####**TASK 12.3** <font color = orange> **Complete Rosalind Problem #3 Conditions and Loops** </font>"
      ],
      "metadata": {
        "id": "83jDEjpMHXUa"
      }
    },
    {
      "cell_type": "code",
      "source": [
        "# Enter code for Rosalind 3 here:\n",
        "\n",
        "def sumOfOddIntegers(a,b):\n",
        "  sum = 0\n",
        "  for i in range(a,b+1):\n",
        "    if i%2!=0:\n",
        "      sum+=i\n",
        "  print(sum)\n",
        "\n",
        "sumOfOddIntegers(100,200)\n"
      ],
      "metadata": {
        "id": "EI7hRtakG90R",
        "colab": {
          "base_uri": "https://localhost:8080/"
        },
        "outputId": "06df21fb-7e41-4fc2-e05c-a9f6cf49ae7a"
      },
      "execution_count": 38,
      "outputs": [
        {
          "output_type": "stream",
          "name": "stdout",
          "text": [
            "7500\n"
          ]
        }
      ]
    },
    {
      "cell_type": "markdown",
      "source": [
        "####**<font color=crimson>TASK 12.4 Commit to GitHub**</font>"
      ],
      "metadata": {
        "id": "3P9DKNbPI1wp"
      }
    },
    {
      "cell_type": "markdown",
      "source": [
        "# **<font color=blue>P13.</font>** File I/O – with open(\"filename\", \"mode\") as filehandle:\n"
      ],
      "metadata": {
        "id": "i4Fo-ddSKWwy"
      }
    },
    {
      "cell_type": "markdown",
      "source": [
        "####**TASK P13.1** Use the ```read()``` function to print the <font color = orange>practice dataset from Rosalind #4</font>\n"
      ],
      "metadata": {
        "id": "sgc3wiQmLXcI"
      }
    },
    {
      "cell_type": "code",
      "source": [
        "with open(\"practiice.txt\",\"r\") as data:\n",
        "\n",
        "    print(data.read())\n",
        "\n",
        "    #print(data.readline())\n",
        "\n",
        "    #print(data.readlines())"
      ],
      "metadata": {
        "id": "V5nzHsnULA_n",
        "colab": {
          "base_uri": "https://localhost:8080/"
        },
        "outputId": "5a0a795c-913d-44a3-c0d6-f8f164f5212a"
      },
      "execution_count": 41,
      "outputs": [
        {
          "output_type": "stream",
          "name": "stdout",
          "text": [
            "Bravely bold Sir Robin rode forth from Camelot\n",
            "Yes, brave Sir Robin turned about\n",
            "He was not afraid to die, O brave Sir Robin\n",
            "And gallantly he chickened out\n",
            "He was not at all afraid to be killed in nasty ways\n",
            "Bravely talking to his feet\n",
            "Brave, brave, brave, brave Sir Robin\n",
            "He beat a very brave retreat\n"
          ]
        }
      ]
    },
    {
      "cell_type": "markdown",
      "source": [
        "####**TASK P13.2** Explore file object functions to read and print practice.txt"
      ],
      "metadata": {
        "id": "GLO6tBYNVzYZ"
      }
    },
    {
      "cell_type": "markdown",
      "source": [
        "#<font color=blue>**P14.**</font> Store the content, close the file, and join ( ) the list"
      ],
      "metadata": {
        "id": "iupO8iI-ZYAe"
      }
    },
    {
      "cell_type": "code",
      "source": [
        "with open(\"practice.txt\",\"r\") as data:\n",
        "\n",
        "  list_of_lines=data.readlines()\n",
        "\n",
        "print (list_of_lines)"
      ],
      "metadata": {
        "id": "8U5w2qOudDyp",
        "colab": {
          "base_uri": "https://localhost:8080/"
        },
        "outputId": "9426d640-4d37-4f85-bbab-3ad4bfdb9d9f"
      },
      "execution_count": 43,
      "outputs": [
        {
          "output_type": "stream",
          "name": "stdout",
          "text": [
            "['Bravely bold Sir Robin rode forth from Camelot\\n', 'Yes, brave Sir Robin turned about\\n', 'He was not afraid to die, O brave Sir Robin\\n', 'And gallantly he chickened out\\n', 'He was not at all afraid to be killed in nasty ways\\n', 'Bravely talking to his feet\\n', 'Brave, brave, brave, brave Sir Robin\\n', 'He beat a very brave retreat']\n"
          ]
        }
      ]
    },
    {
      "cell_type": "markdown",
      "source": [
        "####**TASK P14.1** Read practice.txt into a list of lines. Then, after the file is closed, use the join ( ) function to print the contents so it looks like the original input."
      ],
      "metadata": {
        "id": "5pPhGmQYiiKx"
      }
    },
    {
      "cell_type": "code",
      "source": [
        "print (\"\".join(list_of_lines))"
      ],
      "metadata": {
        "id": "XLvFZ9uSeyYH",
        "colab": {
          "base_uri": "https://localhost:8080/"
        },
        "outputId": "196271ed-4737-462f-99d9-1c9848191823"
      },
      "execution_count": 49,
      "outputs": [
        {
          "output_type": "stream",
          "name": "stdout",
          "text": [
            "Bravely bold Sir Robin rode forth from Camelot\n",
            "Yes, brave Sir Robin turned about\n",
            "He was not afraid to die, O brave Sir Robin\n",
            "And gallantly he chickened out\n",
            "He was not at all afraid to be killed in nasty ways\n",
            "Bravely talking to his feet\n",
            "Brave, brave, brave, brave Sir Robin\n",
            "He beat a very brave retreat\n"
          ]
        }
      ]
    },
    {
      "cell_type": "markdown",
      "source": [
        "#<font color=blue>**P15.**</font> Combining for loops with file objects"
      ],
      "metadata": {
        "id": "lY924yM0jckW"
      }
    },
    {
      "cell_type": "markdown",
      "source": [
        "####**TASK P15.1** Use a for loop to print each line in practice.txt"
      ],
      "metadata": {
        "id": "NvqGEl4JjpiO"
      }
    },
    {
      "cell_type": "code",
      "source": [
        "with open(\"practice.txt\",\"r\") as data:\n",
        "\n",
        "  for line in data:\n",
        "    print (line)"
      ],
      "metadata": {
        "id": "snY-10pUkMby",
        "colab": {
          "base_uri": "https://localhost:8080/"
        },
        "outputId": "3fd5d565-8deb-4ad6-8d37-6deac24d64c2"
      },
      "execution_count": 50,
      "outputs": [
        {
          "output_type": "stream",
          "name": "stdout",
          "text": [
            "Bravely bold Sir Robin rode forth from Camelot\n",
            "\n",
            "Yes, brave Sir Robin turned about\n",
            "\n",
            "He was not afraid to die, O brave Sir Robin\n",
            "\n",
            "And gallantly he chickened out\n",
            "\n",
            "He was not at all afraid to be killed in nasty ways\n",
            "\n",
            "Bravely talking to his feet\n",
            "\n",
            "Brave, brave, brave, brave Sir Robin\n",
            "\n",
            "He beat a very brave retreat\n"
          ]
        }
      ]
    },
    {
      "cell_type": "markdown",
      "source": [
        "####**TASK P15.2** <font color=orange>**Complete Rosalind Problem #4 Working with Files**</font>\n"
      ],
      "metadata": {
        "id": "DHzE7CI4lWGw"
      }
    },
    {
      "cell_type": "code",
      "source": [
        "with open(\"practice.txt\",\"r\") as data:\n",
        "  lines = data.readlines()\n",
        "  for i in range(0,len(lines)):\n",
        "    if i%2!=0:\n",
        "     print (lines[i])\n",
        "\n"
      ],
      "metadata": {
        "id": "8QR9dRFtltBN",
        "colab": {
          "base_uri": "https://localhost:8080/"
        },
        "outputId": "0aa6b1fb-7190-40eb-c81b-76c33aeb24d1"
      },
      "execution_count": 62,
      "outputs": [
        {
          "output_type": "stream",
          "name": "stdout",
          "text": [
            "Yes, brave Sir Robin turned about\n",
            "\n",
            "And gallantly he chickened out\n",
            "\n",
            "Bravely talking to his feet\n",
            "\n",
            "He beat a very brave retreat\n"
          ]
        }
      ]
    },
    {
      "cell_type": "markdown",
      "source": [
        "####**<font color=crimson>TASK 15.4 Commit to GitHub**</font>"
      ],
      "metadata": {
        "id": "GJ_acW4WlwDn"
      }
    },
    {
      "cell_type": "markdown",
      "source": [
        "#<font color=blue>**P16.**</font> ```for word in line.split()``` – looping over strings and splitting by any delimiter"
      ],
      "metadata": {
        "id": "WD5wnvQkmh6E"
      }
    },
    {
      "cell_type": "markdown",
      "source": [
        "####**TASK P16.1** Print each word in the ROSALIND Problem #5 Sample Dataset on a separate line.\n"
      ],
      "metadata": {
        "id": "kApNvgOLn8lp"
      }
    },
    {
      "cell_type": "code",
      "source": [
        "with open(\"practice_5.txt\",\"r\") as data:\n",
        "\n",
        "  line=data.read()\n",
        "\n",
        "for word in line.split():\n",
        "    print (word)"
      ],
      "metadata": {
        "colab": {
          "base_uri": "https://localhost:8080/"
        },
        "id": "PBjyhwclpKoM",
        "outputId": "e8baf31f-4173-423e-de6f-b5085b742caf"
      },
      "execution_count": 63,
      "outputs": [
        {
          "output_type": "stream",
          "name": "stdout",
          "text": [
            "We\n",
            "tried\n",
            "list\n",
            "and\n",
            "we\n",
            "tried\n",
            "dicts\n",
            "also\n",
            "we\n",
            "tried\n",
            "Zen\n"
          ]
        }
      ]
    },
    {
      "cell_type": "markdown",
      "source": [
        "#<font color=blue>**P17.**</font> Python Dictionaries { }"
      ],
      "metadata": {
        "id": "kq9QbEttnA4h"
      }
    },
    {
      "cell_type": "markdown",
      "source": [
        "####**TASK 17.1** Create and print your first dictionary"
      ],
      "metadata": {
        "id": "lVudFQkZqJgh"
      }
    },
    {
      "cell_type": "code",
      "source": [
        "sequences = {\n",
        "    \"H.neandertalensis\":\"ACGTCGCTCTGCTA\",\n",
        "    \"H.sapiens\":\"ACGTCACTCTGCTA\"\n",
        "    }\n",
        "\n",
        "print (sequences)"
      ],
      "metadata": {
        "colab": {
          "base_uri": "https://localhost:8080/"
        },
        "id": "IzKFWDlgq6zo",
        "outputId": "cd7f38fd-95a6-4f5c-f106-259eb9cca493"
      },
      "execution_count": 64,
      "outputs": [
        {
          "output_type": "stream",
          "name": "stdout",
          "text": [
            "{'H.neandertalensis': 'ACGTCGCTCTGCTA', 'H.sapiens': 'ACGTCACTCTGCTA'}\n"
          ]
        }
      ]
    },
    {
      "cell_type": "markdown",
      "source": [
        "#<font color=blue>**P18.**</font> Manipulating and printing dictionaries"
      ],
      "metadata": {
        "id": "OvqoT6UwnK0g"
      }
    },
    {
      "cell_type": "markdown",
      "source": [
        "####**TASK 18.1** Modify line 8 to create a fasta file of the hominid sequences"
      ],
      "metadata": {
        "id": "5Be2tcQRrjso"
      }
    },
    {
      "cell_type": "code",
      "source": [
        "sequences[\"P.troglodytes\"]=\"ACGTCACTCTCCTA\"\n",
        "\n",
        "sequences.update({\"G.gorilla\":\"ACGTCCTCCTA\", \"H.erectus\":\"ACGTCACTCTGCTA\"})\n",
        "\n",
        "print (sequences[\"H.sapiens\"])\n",
        "\n",
        "for key,value in sequences.items():\n",
        "     print (key,value)"
      ],
      "metadata": {
        "colab": {
          "base_uri": "https://localhost:8080/"
        },
        "id": "b-2XDof4rtP8",
        "outputId": "8d366a20-339c-40c4-e433-6255c7255186"
      },
      "execution_count": 65,
      "outputs": [
        {
          "output_type": "stream",
          "name": "stdout",
          "text": [
            "ACGTCACTCTGCTA\n",
            "H.neandertalensis ACGTCGCTCTGCTA\n",
            "H.sapiens ACGTCACTCTGCTA\n",
            "P.troglodytes ACGTCACTCTCCTA\n",
            "G.gorilla ACGTCCTCCTA\n",
            "H.erectus ACGTCACTCTGCTA\n"
          ]
        }
      ]
    },
    {
      "cell_type": "markdown",
      "source": [
        "####**TASK P18.2** <font color= orange>**Complete Rosalind Problem #5  Dictionaries**</font>"
      ],
      "metadata": {
        "id": "Y98OZYUNvmWD"
      }
    },
    {
      "cell_type": "code",
      "source": [
        "dict = {}\n",
        "with open('practice_5.txt', 'r') as file:\n",
        "    lines = file.read()\n",
        "    for word in lines.split():\n",
        "        if word in dict:\n",
        "            dict[word] += 1\n",
        "        else:\n",
        "            dict[word] = 1\n",
        "for key, value in dict.items():\n",
        "    print(f\"{key} {value}\")\n",
        "\n",
        ""
      ],
      "metadata": {
        "id": "lD3KoTY9wWa7",
        "colab": {
          "base_uri": "https://localhost:8080/"
        },
        "outputId": "f92792f2-a58d-4160-8b06-01e5e1be3fe9"
      },
      "execution_count": 66,
      "outputs": [
        {
          "output_type": "stream",
          "name": "stdout",
          "text": [
            "We 1\n",
            "tried 3\n",
            "list 1\n",
            "and 1\n",
            "we 2\n",
            "dicts 1\n",
            "also 1\n",
            "Zen 1\n"
          ]
        }
      ]
    },
    {
      "cell_type": "markdown",
      "source": [
        "####**<font color=crimson>TASK 18.3 Commit to GitHub**</font>"
      ],
      "metadata": {
        "id": "1dJdfy4bwVO4"
      }
    },
    {
      "cell_type": "markdown",
      "source": [
        "#<font color=blue>**P19.**</font> ```count()``` – counting things made easy"
      ],
      "metadata": {
        "id": "28ygQlYJnZoA"
      }
    },
    {
      "cell_type": "markdown",
      "source": [
        "####**TASK P19.1** <font color= orange>**Complete Rosalind Problem #6  Counting DNA Nucleotides**</font>"
      ],
      "metadata": {
        "id": "CZ9tBWDmw4D-"
      }
    },
    {
      "cell_type": "code",
      "source": [
        "count = {'A': 0, 'C': 0, 'G': 0, 'T': 0}\n",
        "\n",
        "with open('rosalind_dna.txt', 'r') as file:\n",
        "    lines = file.read()\n",
        "    for nucleotide in lines:\n",
        "        count[nucleotide] += 1"
      ],
      "metadata": {
        "id": "GlwS14zGxBIC"
      },
      "execution_count": null,
      "outputs": []
    },
    {
      "cell_type": "markdown",
      "source": [
        "####**TASK P19.2** Modify your code for the Rosalind #5 Dictionary problem so that it uses count( ) to count the words."
      ],
      "metadata": {
        "id": "rj-OWB6Jym5y"
      }
    },
    {
      "cell_type": "code",
      "source": [],
      "metadata": {
        "id": "9H_S6jLnzfxR"
      },
      "execution_count": null,
      "outputs": []
    },
    {
      "cell_type": "markdown",
      "source": [
        "####**<font color=crimson>TASK 19.3 Commit to GitHub**</font>\n"
      ],
      "metadata": {
        "id": "RzMon_wAzg7D"
      }
    },
    {
      "cell_type": "markdown",
      "source": [
        "#<font color=blue>**P20.**</font> Installing biopython"
      ],
      "metadata": {
        "id": "-IB0c2gG0Z1O"
      }
    },
    {
      "cell_type": "code",
      "source": [
        "!pip install biopython"
      ],
      "metadata": {
        "colab": {
          "base_uri": "https://localhost:8080/"
        },
        "id": "pinPQdEn0mJM",
        "outputId": "f5d72982-b3df-405b-d1c5-0978c3e861a1"
      },
      "execution_count": 67,
      "outputs": [
        {
          "output_type": "stream",
          "name": "stdout",
          "text": [
            "Collecting biopython\n",
            "  Downloading biopython-1.85-cp312-cp312-manylinux_2_17_x86_64.manylinux2014_x86_64.whl.metadata (13 kB)\n",
            "Requirement already satisfied: numpy in /usr/local/lib/python3.12/dist-packages (from biopython) (2.0.2)\n",
            "Downloading biopython-1.85-cp312-cp312-manylinux_2_17_x86_64.manylinux2014_x86_64.whl (3.3 MB)\n",
            "\u001b[2K   \u001b[90m━━━━━━━━━━━━━━━━━━━━━━━━━━━━━━━━━━━━━━━━\u001b[0m \u001b[32m3.3/3.3 MB\u001b[0m \u001b[31m20.9 MB/s\u001b[0m eta \u001b[36m0:00:00\u001b[0m\n",
            "\u001b[?25hInstalling collected packages: biopython\n",
            "Successfully installed biopython-1.85\n"
          ]
        }
      ]
    },
    {
      "cell_type": "code",
      "metadata": {
        "colab": {
          "base_uri": "https://localhost:8080/"
        },
        "id": "5ccd6f0b",
        "outputId": "e0650d46-1501-47ef-e6c0-98c374646574"
      },
      "source": [
        "try:\n",
        "  from Bio.Seq import Seq\n",
        "  print(\"Biopython is installed correctly.\")\n",
        "except ImportError:\n",
        "  print(\"Biopython is not installed or there was an import error.\")"
      ],
      "execution_count": null,
      "outputs": [
        {
          "output_type": "stream",
          "name": "stdout",
          "text": [
            "Biopython is installed correctly.\n"
          ]
        }
      ]
    },
    {
      "cell_type": "markdown",
      "source": [
        "#<font color=blue>**P21.**</font> Seq( ) – a function to define sequence objects"
      ],
      "metadata": {
        "id": "IGX-ThdQ3RuA"
      }
    },
    {
      "cell_type": "code",
      "source": [
        "from Bio.Seq import Seq\n",
        "\n",
        "my_sequence = Seq(\"GATGGAACTTGACTACGTAAATT\")"
      ],
      "metadata": {
        "id": "ltZBr8mE4OhM"
      },
      "execution_count": 68,
      "outputs": []
    },
    {
      "cell_type": "markdown",
      "source": [
        "####**TASK BP21.2** <font color=orange> **Complete Rosalind #7 Transcribing DNA into RNA**</font>"
      ],
      "metadata": {
        "id": "UXCuEFxg6Jxx"
      }
    },
    {
      "cell_type": "code",
      "source": [
        "with open('rosalind_rna.txt', 'r') as file:\n",
        "    lines = file.read()\n",
        "    for nucleotide in lines:\n",
        "        if nucleotide == 'T':\n",
        "            print('U', end='')\n",
        "        else:\n",
        "            print(nucleotide, end='')"
      ],
      "metadata": {
        "id": "UXt6gWLM6qde"
      },
      "execution_count": null,
      "outputs": []
    },
    {
      "cell_type": "markdown",
      "source": [
        "####**TASK BP21.2** <font color=orange> **Complete Rosalind #8  Translating RNA into Protein**</font>"
      ],
      "metadata": {
        "id": "9P4_MaXp6O3n"
      }
    },
    {
      "cell_type": "code",
      "source": [
        "with open('rosalind_prot.txt', 'r') as file:\n",
        "    rna_sequence = file.read().strip()\n",
        "    print(Seq(rna_sequence).translate(to_stop=True))"
      ],
      "metadata": {
        "id": "5Rzzfzij6q2P"
      },
      "execution_count": null,
      "outputs": []
    },
    {
      "cell_type": "markdown",
      "source": [
        "####**<font color=crimson>TASK 21.3 Commit to GitHub**</font>"
      ],
      "metadata": {
        "id": "dvtR4N7L6sZ_"
      }
    },
    {
      "cell_type": "markdown",
      "source": [
        "#<font color=blue>**P22.**</font> SeqIO – a function to parse( ) sequence files"
      ],
      "metadata": {
        "id": "bDJqtRiX3fEG"
      }
    },
    {
      "cell_type": "markdown",
      "source": [
        "####**TASK BP 22.1** Read in the practice dataset from Rosalind #9 and print the id of each sequence in the file."
      ],
      "metadata": {
        "id": "VKyMhLjx7nIo"
      }
    },
    {
      "cell_type": "code",
      "source": [
        "from Bio.SeqIO import parse\n",
        "\n",
        "for seq_record in parse(\"practice_9.txt\", \"fasta\"):\n",
        "    print (seq_record.id)\n",
        "    print (seq_record.seq)\n",
        "    print (len(seq_record.seq))\n",
        "    print (seq_record)"
      ],
      "metadata": {
        "colab": {
          "base_uri": "https://localhost:8080/"
        },
        "id": "xUi3JEoh7yJ6",
        "outputId": "27387880-5a6e-4957-a5e1-922fc0d19c6d"
      },
      "execution_count": 69,
      "outputs": [
        {
          "output_type": "stream",
          "name": "stdout",
          "text": [
            "Rosalind_6404\n",
            "CCTGCGGAAGATCGGCACTAGAATAGCCAGAACCGTTTCTCTGAGGCTTCCGGCCTTCCCTCCCACTAATAATTCTGAGG\n",
            "80\n",
            "ID: Rosalind_6404\n",
            "Name: Rosalind_6404\n",
            "Description: Rosalind_6404\n",
            "Number of features: 0\n",
            "Seq('CCTGCGGAAGATCGGCACTAGAATAGCCAGAACCGTTTCTCTGAGGCTTCCGGC...AGG')\n",
            "Rosalind_5959\n",
            "CCATCGGTAGCGCATCCTTAGTCCAATTAAGTCCCTATCCAGGCGCTCCGCCGAAGGTCTATATCCATTTGTCAGCAGACACGC\n",
            "84\n",
            "ID: Rosalind_5959\n",
            "Name: Rosalind_5959\n",
            "Description: Rosalind_5959\n",
            "Number of features: 0\n",
            "Seq('CCATCGGTAGCGCATCCTTAGTCCAATTAAGTCCCTATCCAGGCGCTCCGCCGA...CGC')\n",
            "Rosalind_0808\n",
            "CCACCCTCGTGGTATGGCTAGGCATTCAGGAACCGGAGAACGCTTCAGACCAGCCCGGACTGGGAACCTGCGGGCAGTAGGTGGAAT\n",
            "87\n",
            "ID: Rosalind_0808\n",
            "Name: Rosalind_0808\n",
            "Description: Rosalind_0808\n",
            "Number of features: 0\n",
            "Seq('CCACCCTCGTGGTATGGCTAGGCATTCAGGAACCGGAGAACGCTTCAGACCAGC...AAT')\n"
          ]
        }
      ]
    },
    {
      "cell_type": "markdown",
      "source": [
        "#<font color=blue>**P23.**</font> SeqUtils.gc_fraction( ) – a function to compute GC content"
      ],
      "metadata": {
        "id": "SAjUYBpe3pwi"
      }
    },
    {
      "cell_type": "code",
      "source": [],
      "metadata": {
        "id": "5HvwTAI9ygq1"
      },
      "execution_count": null,
      "outputs": []
    },
    {
      "cell_type": "markdown",
      "source": [
        "####**TASK P23.1** Modify the script from TASK P22.1 so that it prints the GC content for each sequence in the file"
      ],
      "metadata": {
        "id": "kEjUu8HfHniC"
      }
    },
    {
      "cell_type": "code",
      "source": [
        "from Bio.SeqUtils import gc_fraction\n",
        "for seq_record in parse(\"practice_9.txt\", \"fasta\"):\n",
        "  print(seq_record.id, gc_fraction(seq_record.seq)*100)"
      ],
      "metadata": {
        "colab": {
          "base_uri": "https://localhost:8080/"
        },
        "id": "a1hFdMmUyiG4",
        "outputId": "6c5133c8-aa09-4dbc-b529-22c45eef23b2"
      },
      "execution_count": 82,
      "outputs": [
        {
          "output_type": "stream",
          "name": "stdout",
          "text": [
            "Rosalind_6404 53.75\n",
            "Rosalind_5959 53.57142857142857\n",
            "Rosalind_0808 60.91954022988506\n"
          ]
        }
      ]
    },
    {
      "cell_type": "markdown",
      "source": [
        "####**TASK P23.2** <font color=orange> **Complete Rosalind #9  Computing GC Content**</font>"
      ],
      "metadata": {
        "id": "nJeXcQR7HwOf"
      }
    },
    {
      "cell_type": "markdown",
      "source": [
        "####**<font color=crimson>TASK 23.3 Commit to GitHub**</font>"
      ],
      "metadata": {
        "id": "gavUUL39INzP"
      }
    },
    {
      "cell_type": "markdown",
      "source": [],
      "metadata": {
        "id": "Zf_OZq9R0dnq"
      }
    },
    {
      "cell_type": "code",
      "metadata": {
        "id": "92b393e1"
      },
      "source": [],
      "execution_count": 82,
      "outputs": []
    },
    {
      "cell_type": "code",
      "source": [],
      "metadata": {
        "id": "kjjqsfZe2Z-Y"
      },
      "execution_count": null,
      "outputs": []
    }
  ]
}