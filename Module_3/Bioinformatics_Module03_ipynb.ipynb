{
  "cells": [
    {
      "cell_type": "markdown",
      "metadata": {
        "id": "l3h89jAYBUzz"
      },
      "source": [
        "# **<font color=blue>P1.** </font>Rename this notebook **Bioinformatics_Module03.ipynb </font><br>**"
      ]
    },
    {
      "cell_type": "markdown",
      "metadata": {
        "id": "jYlnA2Z2FhoW"
      },
      "source": [
        "# **<font color=blue>P2. </font>**```print()```writes to standard output (i.e. prints output to the screen)"
      ]
    },
    {
      "cell_type": "markdown",
      "metadata": {
        "id": "r118fqQodA9x"
      },
      "source": [
        "####**TASK P2.1:** Print <font color = magenta>hello world</font>"
      ]
    },
    {
      "cell_type": "code",
      "execution_count": 1,
      "metadata": {
        "colab": {
          "base_uri": "https://localhost:8080/"
        },
        "id": "kvxK8D5uFx_x",
        "outputId": "3ae8fa05-fd29-4e88-8537-622bf6ad8894"
      },
      "outputs": [
        {
          "name": "stdout",
          "output_type": "stream",
          "text": [
            "hello world\n"
          ]
        }
      ],
      "source": [
        "print(\"hello world\")"
      ]
    },
    {
      "cell_type": "markdown",
      "metadata": {
        "id": "qRj8vCvXG-1k"
      },
      "source": [
        "# **<font color=blue>P3. </font>**```=``` is the ASSIGNMENT operator (assigns values to variables)\n",
        "####**TASK P3.1:** Ask Gemini, \"*Give me 3 examples to help practice understanding the assignment operator.*\""
      ]
    },
    {
      "cell_type": "code",
      "execution_count": 1,
      "metadata": {},
      "outputs": [
        {
          "name": "stdout",
          "output_type": "stream",
          "text": [
            "10\n",
            "15\n",
            "Alice\n"
          ]
        }
      ],
      "source": [
        "# Example 1: Assigning a value to a variable\n",
        "x = 10\n",
        "print(x)\n",
        "\n",
        "# Example 2: Assigning the result of an expression to a variable\n",
        "y = x + 5\n",
        "print(y)\n",
        "\n",
        "# Example 3: Assigning a string to a variable\n",
        "name = \"Alice\"\n",
        "print(name)"
      ]
    },
    {
      "cell_type": "code",
      "execution_count": null,
      "metadata": {},
      "outputs": [],
      "source": []
    },
    {
      "cell_type": "code",
      "execution_count": 2,
      "metadata": {
        "colab": {
          "base_uri": "https://localhost:8080/"
        },
        "id": "VB8HPNe7JpuJ",
        "outputId": "87d16c16-7612-4617-8dba-f7fe3ea25bf7"
      },
      "outputs": [
        {
          "data": {
            "text/plain": [
              "5"
            ]
          },
          "execution_count": 2,
          "metadata": {},
          "output_type": "execute_result"
        }
      ],
      "source": [
        "x=5\n",
        "x"
      ]
    },
    {
      "cell_type": "markdown",
      "metadata": {
        "id": "s7deJQCHHwOa"
      },
      "source": [
        "# **<font color=blue>P4. </font>** Data types: use ```type()``` to find a variable's \"type\"\n",
        "####**TASK P4.1:** Ask Gemini, \"*Give me examples of each data type to see how they look as outputs.*\""
      ]
    },
    {
      "cell_type": "code",
      "execution_count": 4,
      "metadata": {},
      "outputs": [
        {
          "name": "stdout",
          "output_type": "stream",
          "text": [
            "42 <class 'int'>\n",
            "3.14 <class 'float'>\n",
            "Hello, World! <class 'str'>\n",
            "True <class 'bool'>\n",
            "[1, 2, 3, 4, 5] <class 'list'>\n",
            "(1, 2, 3) <class 'tuple'>\n",
            "{1, 2, 3} <class 'set'>\n",
            "{'key1': 'value1', 'key2': 'value2'} <class 'dict'>\n"
          ]
        }
      ],
      "source": [
        "# Integer\n",
        "integer_example = 42\n",
        "print(integer_example, type(integer_example))\n",
        "\n",
        "# Float\n",
        "float_example = 3.14\n",
        "print(float_example, type(float_example))\n",
        "\n",
        "# String\n",
        "string_example = \"Hello, World!\"\n",
        "print(string_example, type(string_example))\n",
        "\n",
        "# Boolean\n",
        "boolean_example = True\n",
        "print(boolean_example, type(boolean_example))\n",
        "\n",
        "# List\n",
        "list_example = [1, 2, 3, 4, 5]\n",
        "print(list_example, type(list_example))\n",
        "\n",
        "# Tuple\n",
        "tuple_example = (1, 2, 3)\n",
        "print(tuple_example, type(tuple_example))\n",
        "\n",
        "# Set\n",
        "set_example = {1, 2, 3}\n",
        "print(set_example, type(set_example))\n",
        "\n",
        "# Dictionary\n",
        "dict_example = {\"key1\": \"value1\", \"key2\": \"value2\"}\n",
        "print(dict_example, type(dict_example))"
      ]
    },
    {
      "cell_type": "code",
      "execution_count": 4,
      "metadata": {
        "colab": {
          "base_uri": "https://localhost:8080/"
        },
        "id": "ktR75uWIJ0uc",
        "outputId": "8ed3ac83-a743-4907-8a75-481ac4266c37"
      },
      "outputs": [
        {
          "data": {
            "text/plain": [
              "int"
            ]
          },
          "execution_count": 4,
          "metadata": {},
          "output_type": "execute_result"
        }
      ],
      "source": [
        "type(x)"
      ]
    },
    {
      "cell_type": "markdown",
      "metadata": {
        "id": "GtjxkNHWN5Xo"
      },
      "source": [
        "# **<font color=blue>P5. </font>** Arithmetic and comparison operators\n",
        "####**TASK P5.1:**   Complete Rosalind #1"
      ]
    },
    {
      "cell_type": "code",
      "execution_count": 5,
      "metadata": {
        "colab": {
          "base_uri": "https://localhost:8080/"
        },
        "id": "45s9c4vyQm2U",
        "outputId": "3e16857c-a229-4b51-d1e8-2cb82c54392b"
      },
      "outputs": [
        {
          "name": "stdout",
          "output_type": "stream",
          "text": [
            "5\n"
          ]
        },
        {
          "data": {
            "text/plain": [
              "True"
            ]
          },
          "execution_count": 5,
          "metadata": {},
          "output_type": "execute_result"
        }
      ],
      "source": [
        "y=2+3\n",
        "print(y)\n",
        "x==y"
      ]
    },
    {
      "cell_type": "markdown",
      "metadata": {
        "id": "3yswDberkE7N"
      },
      "source": [
        "# **<font color=blue>P6. </font>** ```input()``` gets input from the user"
      ]
    },
    {
      "cell_type": "markdown",
      "metadata": {
        "id": "z97rSY9gqdad"
      },
      "source": [
        "TASK P6.1"
      ]
    },
    {
      "cell_type": "code",
      "execution_count": 6,
      "metadata": {
        "colab": {
          "base_uri": "https://localhost:8080/"
        },
        "id": "d91046dd",
        "outputId": "cb90ca41-ee4c-431b-da28-f6769ce55f4c"
      },
      "outputs": [
        {
          "name": "stdout",
          "output_type": "stream",
          "text": [
            "Enter your name: Rohan Kurma\n",
            "Hello, Rohan Kurma\n"
          ]
        }
      ],
      "source": [
        "name = input(\"Enter your name: \")\n",
        "print(\"Hello, \" + name)"
      ]
    },
    {
      "cell_type": "markdown",
      "metadata": {
        "id": "e3LaAQeLRmE6"
      },
      "source": [
        "\n",
        "####**TASK P6.1:** Solve Rosalind #1 again, but get user input for the values of a and b rather than modifying the code."
      ]
    },
    {
      "cell_type": "code",
      "execution_count": 7,
      "metadata": {
        "colab": {
          "base_uri": "https://localhost:8080/"
        },
        "id": "wZ0XL0L6Rq2H",
        "outputId": "0739027b-0725-4302-a4ba-01c2d564f1b3"
      },
      "outputs": [
        {
          "name": "stdout",
          "output_type": "stream",
          "text": [
            "enter a value for a:2\n",
            "enter a value for b:3\n",
            "The sq of the hypotenuse is 13\n"
          ]
        }
      ],
      "source": [
        "a= int(input(\"enter a value for a:\"))\n",
        "b= int(input(\"enter a value for b:\"))\n",
        "c=a**2+b**2\n",
        "print (\"The sq of the hypotenuse is\",c)"
      ]
    },
    {
      "cell_type": "markdown",
      "metadata": {
        "id": "4IM-9eAGkPdi"
      },
      "source": [
        "# **<font color=blue>P7. </font>** ```list``` type variables (create, replace, append)"
      ]
    },
    {
      "cell_type": "markdown",
      "metadata": {
        "id": "DhNGdYK6NEpe"
      },
      "source": [
        "####**TASK P7.1**"
      ]
    },
    {
      "cell_type": "code",
      "execution_count": 8,
      "metadata": {
        "colab": {
          "base_uri": "https://localhost:8080/"
        },
        "id": "N3VRRQIEkXuP",
        "outputId": "d88b1f59-2817-48a1-dad5-152e362355f7"
      },
      "outputs": [
        {
          "name": "stdout",
          "output_type": "stream",
          "text": [
            "World\n"
          ]
        }
      ],
      "source": [
        "# Create a list with 3 elements and then print them\n",
        "\n",
        "my_list = [\"Hello\", \"World\", \"Charles Darwin\"]\n",
        "print (my_list[1])"
      ]
    },
    {
      "cell_type": "markdown",
      "metadata": {
        "id": "Yn3bAoi8NKy5"
      },
      "source": [
        "####**TASK P7.2**"
      ]
    },
    {
      "cell_type": "code",
      "execution_count": 9,
      "metadata": {
        "colab": {
          "base_uri": "https://localhost:8080/"
        },
        "id": "WNnsUuduOKbI",
        "outputId": "4fc0d1eb-1770-46a6-acec-c692e9efb96b"
      },
      "outputs": [
        {
          "name": "stdout",
          "output_type": "stream",
          "text": [
            "['Hello', 'World', 'Alfred R. Wallace']\n"
          ]
        }
      ],
      "source": [
        "# Substitute the item at index 2 in the list\n",
        "my_list[2] = \"Alfred R. Wallace\"\n",
        "print (my_list)"
      ]
    },
    {
      "cell_type": "markdown",
      "metadata": {
        "id": "SxiMMNLyPwGV"
      },
      "source": [
        "####**TASK P7.3**"
      ]
    },
    {
      "cell_type": "code",
      "execution_count": 10,
      "metadata": {
        "colab": {
          "base_uri": "https://localhost:8080/"
        },
        "id": "3VrLc6CGQTi-",
        "outputId": "2104ad82-664d-4048-86e9-38d46ee2e0e2"
      },
      "outputs": [
        {
          "name": "stdout",
          "output_type": "stream",
          "text": [
            "['Hello', 'World', 'Alfred R. Wallace', 'Charles Darwin']\n"
          ]
        }
      ],
      "source": [
        "# Append an item to the end of the list\n",
        "my_list.append(\"Charles Darwin\")\n",
        "print (my_list)"
      ]
    },
    {
      "cell_type": "markdown",
      "metadata": {
        "id": "XQKmwgbfQond"
      },
      "source": [
        "####**TASK P7.4**. Ask Gemini how to <font color=crimson>```insert```</font> a new item at index 1 in the list"
      ]
    },
    {
      "cell_type": "code",
      "execution_count": 11,
      "metadata": {
        "colab": {
          "base_uri": "https://localhost:8080/"
        },
        "id": "u0maP5CZZN13",
        "outputId": "e7688d60-1c1c-439c-a969-3f9e0ba5bc93"
      },
      "outputs": [
        {
          "name": "stdout",
          "output_type": "stream",
          "text": [
            "['Hello', 'World', 'Alfred R. Wallace', 'Charles Darwin']\n"
          ]
        }
      ],
      "source": [
        "# On line #2 insert an item at index 1 of my_list\n",
        "\n",
        "print (my_list)"
      ]
    },
    {
      "cell_type": "markdown",
      "metadata": {
        "id": "nlBbe3qBRH_J"
      },
      "source": [
        "# **<font color=blue>P8. </font>** Slicing lists and strings"
      ]
    },
    {
      "cell_type": "markdown",
      "metadata": {
        "id": "M0YW2MP0WtuI"
      },
      "source": [
        "####**TASK P8.1** Slice and print only the middle two elements from the list created in P7 (i.e. only <font color=magenta>World</font> and <font color=magenta>Alfred R. Wallace</font>).  "
      ]
    },
    {
      "cell_type": "code",
      "execution_count": 12,
      "metadata": {
        "colab": {
          "base_uri": "https://localhost:8080/"
        },
        "id": "Tp1djNtiaxSb",
        "outputId": "d59051ab-faab-4826-fad4-a9ba97d33bc5"
      },
      "outputs": [
        {
          "name": "stdout",
          "output_type": "stream",
          "text": [
            "['Alfred R. Wallace', 'Charles Darwin']\n"
          ]
        }
      ],
      "source": [
        "print (my_list[2:4])"
      ]
    },
    {
      "cell_type": "markdown",
      "metadata": {
        "id": "_F9KCUzCd3ID"
      },
      "source": [
        "####**TASK P8.2**: Print <font color=magenta>Wallace World</font> from **my_string** by slicing\n"
      ]
    },
    {
      "cell_type": "code",
      "execution_count": 20,
      "metadata": {
        "colab": {
          "base_uri": "https://localhost:8080/"
        },
        "id": "AafKngtba8En",
        "outputId": "e9856a33-8819-4fa6-e431-93cf3feb94cc"
      },
      "outputs": [
        {
          "name": "stdout",
          "output_type": "stream",
          "text": [
            "Hello World\n",
            "Walace World\n"
          ]
        }
      ],
      "source": [
        "my_string = \"HelloWorldCharlesDarwinAlfred R. Walace\"\n",
        "print (my_string[0:5],my_string[5:10])\n",
        "\n",
        "# in the print command below input the correct index values to complete Task P8.2\n",
        "print (my_string[-6:],my_string[5 : 10])"
      ]
    },
    {
      "cell_type": "markdown",
      "metadata": {
        "id": "2TTQVE-Xf8jR"
      },
      "source": [
        "####**TASK P8.3**  **<font color = orange> Complete Rosalind Problem #2 Strings and Lists</font>**"
      ]
    },
    {
      "cell_type": "code",
      "execution_count": 23,
      "metadata": {
        "colab": {
          "base_uri": "https://localhost:8080/"
        },
        "id": "LI88f5RZh4GL",
        "outputId": "526f581b-df72-4494-a783-909bd7a3a46e"
      },
      "outputs": [
        {
          "name": "stdout",
          "output_type": "stream",
          "text": [
            "Humpty Dumpty\n"
          ]
        }
      ],
      "source": [
        "# Enter code for Rosalind 2 here:\n",
        "\n",
        "sampleData = \"\"\"HumptyDumptysatonawallHumptyDumptyhadagreatfallAlltheKingshorsesandalltheKingsmenCouldntputHumptyDumptyinhisplaceagain.\n",
        "22 27 97 102\n",
        "\"\"\"\n",
        "\n",
        "print(sampleData[0:6], sampleData[6:12])\n",
        "\n",
        "#\n",
        "\n"
      ]
    },
    {
      "cell_type": "markdown",
      "metadata": {
        "id": "Tw6Pwh6TjwJ9"
      },
      "source": [
        "####**<font color=crimson>TASK 8.4 Commit to GitHub**</font>*italicized text*"
      ]
    },
    {
      "cell_type": "markdown",
      "metadata": {
        "id": "iHFNxm30lzic"
      },
      "source": [
        "# **<font color=blue>P9. </font>** ```if``` and ```else``` - conditional output"
      ]
    },
    {
      "cell_type": "markdown",
      "metadata": {
        "id": "WCXnGdftztbN"
      },
      "source": [
        "####**TASK P9.1** Create some code that subtracts two numbers if they are different or adds them if they are the same."
      ]
    },
    {
      "cell_type": "code",
      "execution_count": 24,
      "metadata": {
        "colab": {
          "base_uri": "https://localhost:8080/"
        },
        "id": "KabZsL5Fy8jJ",
        "outputId": "212e1391-a226-4e5f-e17c-38ffa9cef319"
      },
      "outputs": [
        {
          "name": "stdout",
          "output_type": "stream",
          "text": [
            "10\n"
          ]
        }
      ],
      "source": [
        "a=5\n",
        "b=5\n",
        "\n",
        "if a!=b:\n",
        "  print(a-b)\n",
        "\n",
        "else:\n",
        "  print(a+b)"
      ]
    },
    {
      "cell_type": "markdown",
      "metadata": {
        "id": "sOgq54Op4MZL"
      },
      "source": [
        "# **<font color=blue>P10.</font>** ```while``` loops"
      ]
    },
    {
      "cell_type": "markdown",
      "metadata": {
        "id": "JMqGqhTn4l9s"
      },
      "source": [
        "####**TASK P10.1** Create a while loop that runs 3 times\n"
      ]
    },
    {
      "cell_type": "code",
      "execution_count": 26,
      "metadata": {
        "colab": {
          "base_uri": "https://localhost:8080/"
        },
        "id": "07YbiCGO4O1w",
        "outputId": "bb42e379-ce44-429a-acfd-2a6839c61d37"
      },
      "outputs": [
        {
          "name": "stdout",
          "output_type": "stream",
          "text": [
            "Counting!\n",
            "Counting!Counting!\n",
            "Counting!Counting!Counting!\n"
          ]
        }
      ],
      "source": [
        "#initiate a counter\n",
        "a = 1\n",
        "\n",
        "#print \"Counting!\" while a<=3\n",
        "while a <= 3:\n",
        "\n",
        "    print (\"Counting!\" * a)\n",
        "    a += 1"
      ]
    },
    {
      "cell_type": "markdown",
      "metadata": {
        "id": "R5_dYi9f6t1z"
      },
      "source": [
        "# **<font color=blue>P11.</font>** ```for``` loops – looping over lists"
      ]
    },
    {
      "cell_type": "markdown",
      "metadata": {
        "id": "x9F7v_V073wO"
      },
      "source": [
        "####**TASK P11.1** Create a for loop to print each item in a list\n"
      ]
    },
    {
      "cell_type": "code",
      "execution_count": 27,
      "metadata": {
        "colab": {
          "base_uri": "https://localhost:8080/"
        },
        "id": "-aqaQ5hz70yo",
        "outputId": "e6e2e46a-1cab-4c5d-aabc-18006bcd17b6"
      },
      "outputs": [
        {
          "name": "stdout",
          "output_type": "stream",
          "text": [
            "Hello Alice\n",
            "Hello Bob\n",
            "Hello Charley\n"
          ]
        }
      ],
      "source": [
        "names = [\"Alice\",\"Bob\",\"Charley\"]\n",
        "\n",
        "for name in names:\n",
        "    print (\"Hello\", name)"
      ]
    },
    {
      "cell_type": "markdown",
      "metadata": {
        "id": "LdtXZ0LW9ugo"
      },
      "source": [
        "# **<font color=blue>P12.</font>** ```for``` loops over a ```range()```of numbers"
      ]
    },
    {
      "cell_type": "markdown",
      "metadata": {
        "id": "jG6jvXEBDi4H"
      },
      "source": [
        "####**TASK 12.1** Using for and range(), create code that prints the numbers 0-9"
      ]
    },
    {
      "cell_type": "code",
      "execution_count": 28,
      "metadata": {
        "colab": {
          "base_uri": "https://localhost:8080/"
        },
        "id": "RFBXqQNu_E6X",
        "outputId": "84e08712-29cb-4271-87c3-3de2b7153786"
      },
      "outputs": [
        {
          "name": "stdout",
          "output_type": "stream",
          "text": [
            "0\n",
            "1\n",
            "2\n",
            "3\n",
            "4\n",
            "5\n",
            "6\n",
            "7\n",
            "8\n",
            "9\n"
          ]
        }
      ],
      "source": [
        "# Create a variable to define the  number of iterations\n",
        "iterations = 10\n",
        "\n",
        "#Print the current item's value each time through the loop\n",
        "for number in range(iterations):\n",
        "    print (number)"
      ]
    },
    {
      "cell_type": "markdown",
      "metadata": {
        "id": "NRd5srR_G-PQ"
      },
      "source": [
        "####**TASK 12.2** Modify the code so that it only prints every 3rd number from 9 through 27 (i.e. including 27)"
      ]
    },
    {
      "cell_type": "code",
      "execution_count": 35,
      "metadata": {
        "colab": {
          "base_uri": "https://localhost:8080/"
        },
        "id": "irYTFPO-IRHo",
        "outputId": "e506da33-180a-4da0-8782-d31b76c4e3bd"
      },
      "outputs": [
        {
          "name": "stdout",
          "output_type": "stream",
          "text": [
            "9\n",
            "11\n",
            "13\n",
            "15\n",
            "17\n",
            "19\n",
            "21\n",
            "23\n",
            "25\n",
            "27\n"
          ]
        }
      ],
      "source": [
        "for i in range(9,28,2):\n",
        "    print (i)"
      ]
    },
    {
      "cell_type": "markdown",
      "metadata": {
        "id": "83jDEjpMHXUa"
      },
      "source": [
        "####**TASK 12.3** <font color = orange> **Complete Rosalind Problem #3 Conditions and Loops** </font>"
      ]
    },
    {
      "cell_type": "code",
      "execution_count": 38,
      "metadata": {
        "colab": {
          "base_uri": "https://localhost:8080/"
        },
        "id": "EI7hRtakG90R",
        "outputId": "06df21fb-7e41-4fc2-e05c-a9f6cf49ae7a"
      },
      "outputs": [
        {
          "name": "stdout",
          "output_type": "stream",
          "text": [
            "7500\n"
          ]
        }
      ],
      "source": [
        "# Enter code for Rosalind 3 here:\n",
        "\n",
        "def sumOfOddIntegers(a,b):\n",
        "  sum = 0\n",
        "  for i in range(a,b+1):\n",
        "    if i%2!=0:\n",
        "      sum+=i\n",
        "  print(sum)\n",
        "\n",
        "sumOfOddIntegers(100,200)\n"
      ]
    },
    {
      "cell_type": "markdown",
      "metadata": {
        "id": "3P9DKNbPI1wp"
      },
      "source": [
        "####**<font color=crimson>TASK 12.4 Commit to GitHub**</font>"
      ]
    },
    {
      "cell_type": "markdown",
      "metadata": {
        "id": "i4Fo-ddSKWwy"
      },
      "source": [
        "# **<font color=blue>P13.</font>** File I/O – with open(\"filename\", \"mode\") as filehandle:\n"
      ]
    },
    {
      "cell_type": "markdown",
      "metadata": {
        "id": "sgc3wiQmLXcI"
      },
      "source": [
        "####**TASK P13.1** Use the ```read()``` function to print the <font color = orange>practice dataset from Rosalind #4</font>\n"
      ]
    },
    {
      "cell_type": "code",
      "execution_count": 41,
      "metadata": {
        "colab": {
          "base_uri": "https://localhost:8080/"
        },
        "id": "V5nzHsnULA_n",
        "outputId": "5a0a795c-913d-44a3-c0d6-f8f164f5212a"
      },
      "outputs": [
        {
          "name": "stdout",
          "output_type": "stream",
          "text": [
            "Bravely bold Sir Robin rode forth from Camelot\n",
            "Yes, brave Sir Robin turned about\n",
            "He was not afraid to die, O brave Sir Robin\n",
            "And gallantly he chickened out\n",
            "He was not at all afraid to be killed in nasty ways\n",
            "Bravely talking to his feet\n",
            "Brave, brave, brave, brave Sir Robin\n",
            "He beat a very brave retreat\n"
          ]
        }
      ],
      "source": [
        "with open(\"practiice.txt\",\"r\") as data:\n",
        "\n",
        "    print(data.read())\n",
        "\n",
        "    #print(data.readline())\n",
        "\n",
        "    #print(data.readlines())"
      ]
    },
    {
      "cell_type": "markdown",
      "metadata": {
        "id": "GLO6tBYNVzYZ"
      },
      "source": [
        "####**TASK P13.2** Explore file object functions to read and print practice.txt"
      ]
    },
    {
      "cell_type": "markdown",
      "metadata": {
        "id": "iupO8iI-ZYAe"
      },
      "source": [
        "#<font color=blue>**P14.**</font> Store the content, close the file, and join ( ) the list"
      ]
    },
    {
      "cell_type": "code",
      "execution_count": 43,
      "metadata": {
        "colab": {
          "base_uri": "https://localhost:8080/"
        },
        "id": "8U5w2qOudDyp",
        "outputId": "9426d640-4d37-4f85-bbab-3ad4bfdb9d9f"
      },
      "outputs": [
        {
          "name": "stdout",
          "output_type": "stream",
          "text": [
            "['Bravely bold Sir Robin rode forth from Camelot\\n', 'Yes, brave Sir Robin turned about\\n', 'He was not afraid to die, O brave Sir Robin\\n', 'And gallantly he chickened out\\n', 'He was not at all afraid to be killed in nasty ways\\n', 'Bravely talking to his feet\\n', 'Brave, brave, brave, brave Sir Robin\\n', 'He beat a very brave retreat']\n"
          ]
        }
      ],
      "source": [
        "with open(\"practice.txt\",\"r\") as data:\n",
        "\n",
        "  list_of_lines=data.readlines()\n",
        "\n",
        "print (list_of_lines)"
      ]
    },
    {
      "cell_type": "markdown",
      "metadata": {
        "id": "5pPhGmQYiiKx"
      },
      "source": [
        "####**TASK P14.1** Read practice.txt into a list of lines. Then, after the file is closed, use the join ( ) function to print the contents so it looks like the original input."
      ]
    },
    {
      "cell_type": "code",
      "execution_count": 49,
      "metadata": {
        "colab": {
          "base_uri": "https://localhost:8080/"
        },
        "id": "XLvFZ9uSeyYH",
        "outputId": "196271ed-4737-462f-99d9-1c9848191823"
      },
      "outputs": [
        {
          "name": "stdout",
          "output_type": "stream",
          "text": [
            "Bravely bold Sir Robin rode forth from Camelot\n",
            "Yes, brave Sir Robin turned about\n",
            "He was not afraid to die, O brave Sir Robin\n",
            "And gallantly he chickened out\n",
            "He was not at all afraid to be killed in nasty ways\n",
            "Bravely talking to his feet\n",
            "Brave, brave, brave, brave Sir Robin\n",
            "He beat a very brave retreat\n"
          ]
        }
      ],
      "source": [
        "print (\"\".join(list_of_lines))"
      ]
    },
    {
      "cell_type": "markdown",
      "metadata": {
        "id": "lY924yM0jckW"
      },
      "source": [
        "#<font color=blue>**P15.**</font> Combining for loops with file objects"
      ]
    },
    {
      "cell_type": "markdown",
      "metadata": {
        "id": "NvqGEl4JjpiO"
      },
      "source": [
        "####**TASK P15.1** Use a for loop to print each line in practice.txt"
      ]
    },
    {
      "cell_type": "code",
      "execution_count": 50,
      "metadata": {
        "colab": {
          "base_uri": "https://localhost:8080/"
        },
        "id": "snY-10pUkMby",
        "outputId": "3fd5d565-8deb-4ad6-8d37-6deac24d64c2"
      },
      "outputs": [
        {
          "name": "stdout",
          "output_type": "stream",
          "text": [
            "Bravely bold Sir Robin rode forth from Camelot\n",
            "\n",
            "Yes, brave Sir Robin turned about\n",
            "\n",
            "He was not afraid to die, O brave Sir Robin\n",
            "\n",
            "And gallantly he chickened out\n",
            "\n",
            "He was not at all afraid to be killed in nasty ways\n",
            "\n",
            "Bravely talking to his feet\n",
            "\n",
            "Brave, brave, brave, brave Sir Robin\n",
            "\n",
            "He beat a very brave retreat\n"
          ]
        }
      ],
      "source": [
        "with open(\"practice.txt\",\"r\") as data:\n",
        "\n",
        "  for line in data:\n",
        "    print (line)"
      ]
    },
    {
      "cell_type": "markdown",
      "metadata": {
        "id": "DHzE7CI4lWGw"
      },
      "source": [
        "####**TASK P15.2** <font color=orange>**Complete Rosalind Problem #4 Working with Files**</font>\n"
      ]
    },
    {
      "cell_type": "code",
      "execution_count": 62,
      "metadata": {
        "colab": {
          "base_uri": "https://localhost:8080/"
        },
        "id": "8QR9dRFtltBN",
        "outputId": "0aa6b1fb-7190-40eb-c81b-76c33aeb24d1"
      },
      "outputs": [
        {
          "name": "stdout",
          "output_type": "stream",
          "text": [
            "Yes, brave Sir Robin turned about\n",
            "\n",
            "And gallantly he chickened out\n",
            "\n",
            "Bravely talking to his feet\n",
            "\n",
            "He beat a very brave retreat\n"
          ]
        }
      ],
      "source": [
        "with open(\"practice.txt\",\"r\") as data:\n",
        "  lines = data.readlines()\n",
        "  for i in range(0,len(lines)):\n",
        "    if i%2!=0:\n",
        "     print (lines[i])\n",
        "\n"
      ]
    },
    {
      "cell_type": "markdown",
      "metadata": {
        "id": "GJ_acW4WlwDn"
      },
      "source": [
        "####**<font color=crimson>TASK 15.4 Commit to GitHub**</font>"
      ]
    },
    {
      "cell_type": "markdown",
      "metadata": {
        "id": "WD5wnvQkmh6E"
      },
      "source": [
        "#<font color=blue>**P16.**</font> ```for word in line.split()``` – looping over strings and splitting by any delimiter"
      ]
    },
    {
      "cell_type": "markdown",
      "metadata": {
        "id": "kApNvgOLn8lp"
      },
      "source": [
        "####**TASK P16.1** Print each word in the ROSALIND Problem #5 Sample Dataset on a separate line.\n"
      ]
    },
    {
      "cell_type": "code",
      "execution_count": 63,
      "metadata": {
        "colab": {
          "base_uri": "https://localhost:8080/"
        },
        "id": "PBjyhwclpKoM",
        "outputId": "e8baf31f-4173-423e-de6f-b5085b742caf"
      },
      "outputs": [
        {
          "name": "stdout",
          "output_type": "stream",
          "text": [
            "We\n",
            "tried\n",
            "list\n",
            "and\n",
            "we\n",
            "tried\n",
            "dicts\n",
            "also\n",
            "we\n",
            "tried\n",
            "Zen\n"
          ]
        }
      ],
      "source": [
        "with open(\"practice_5.txt\",\"r\") as data:\n",
        "\n",
        "  line=data.read()\n",
        "\n",
        "for word in line.split():\n",
        "    print (word)"
      ]
    },
    {
      "cell_type": "markdown",
      "metadata": {
        "id": "kq9QbEttnA4h"
      },
      "source": [
        "#<font color=blue>**P17.**</font> Python Dictionaries { }"
      ]
    },
    {
      "cell_type": "markdown",
      "metadata": {
        "id": "lVudFQkZqJgh"
      },
      "source": [
        "####**TASK 17.1** Create and print your first dictionary"
      ]
    },
    {
      "cell_type": "code",
      "execution_count": 64,
      "metadata": {
        "colab": {
          "base_uri": "https://localhost:8080/"
        },
        "id": "IzKFWDlgq6zo",
        "outputId": "cd7f38fd-95a6-4f5c-f106-259eb9cca493"
      },
      "outputs": [
        {
          "name": "stdout",
          "output_type": "stream",
          "text": [
            "{'H.neandertalensis': 'ACGTCGCTCTGCTA', 'H.sapiens': 'ACGTCACTCTGCTA'}\n"
          ]
        }
      ],
      "source": [
        "sequences = {\n",
        "    \"H.neandertalensis\":\"ACGTCGCTCTGCTA\",\n",
        "    \"H.sapiens\":\"ACGTCACTCTGCTA\"\n",
        "    }\n",
        "\n",
        "print (sequences)"
      ]
    },
    {
      "cell_type": "markdown",
      "metadata": {
        "id": "OvqoT6UwnK0g"
      },
      "source": [
        "#<font color=blue>**P18.**</font> Manipulating and printing dictionaries"
      ]
    },
    {
      "cell_type": "markdown",
      "metadata": {
        "id": "5Be2tcQRrjso"
      },
      "source": [
        "####**TASK 18.1** Modify line 8 to create a fasta file of the hominid sequences"
      ]
    },
    {
      "cell_type": "code",
      "execution_count": 65,
      "metadata": {
        "colab": {
          "base_uri": "https://localhost:8080/"
        },
        "id": "b-2XDof4rtP8",
        "outputId": "8d366a20-339c-40c4-e433-6255c7255186"
      },
      "outputs": [
        {
          "name": "stdout",
          "output_type": "stream",
          "text": [
            "ACGTCACTCTGCTA\n",
            "H.neandertalensis ACGTCGCTCTGCTA\n",
            "H.sapiens ACGTCACTCTGCTA\n",
            "P.troglodytes ACGTCACTCTCCTA\n",
            "G.gorilla ACGTCCTCCTA\n",
            "H.erectus ACGTCACTCTGCTA\n"
          ]
        }
      ],
      "source": [
        "sequences[\"P.troglodytes\"]=\"ACGTCACTCTCCTA\"\n",
        "\n",
        "sequences.update({\"G.gorilla\":\"ACGTCCTCCTA\", \"H.erectus\":\"ACGTCACTCTGCTA\"})\n",
        "\n",
        "print (sequences[\"H.sapiens\"])\n",
        "\n",
        "for key,value in sequences.items():\n",
        "     print (key,value)"
      ]
    },
    {
      "cell_type": "markdown",
      "metadata": {
        "id": "Y98OZYUNvmWD"
      },
      "source": [
        "####**TASK P18.2** <font color= orange>**Complete Rosalind Problem #5  Dictionaries**</font>"
      ]
    },
    {
      "cell_type": "code",
      "execution_count": 66,
      "metadata": {
        "colab": {
          "base_uri": "https://localhost:8080/"
        },
        "id": "lD3KoTY9wWa7",
        "outputId": "f92792f2-a58d-4160-8b06-01e5e1be3fe9"
      },
      "outputs": [
        {
          "name": "stdout",
          "output_type": "stream",
          "text": [
            "We 1\n",
            "tried 3\n",
            "list 1\n",
            "and 1\n",
            "we 2\n",
            "dicts 1\n",
            "also 1\n",
            "Zen 1\n"
          ]
        }
      ],
      "source": [
        "dict = {}\n",
        "with open('practice_5.txt', 'r') as file:\n",
        "    lines = file.read()\n",
        "    for word in lines.split():\n",
        "        if word in dict:\n",
        "            dict[word] += 1\n",
        "        else:\n",
        "            dict[word] = 1\n",
        "for key, value in dict.items():\n",
        "    print(f\"{key} {value}\")\n",
        "\n"
      ]
    },
    {
      "cell_type": "markdown",
      "metadata": {
        "id": "1dJdfy4bwVO4"
      },
      "source": [
        "####**<font color=crimson>TASK 18.3 Commit to GitHub**</font>"
      ]
    },
    {
      "cell_type": "markdown",
      "metadata": {
        "id": "28ygQlYJnZoA"
      },
      "source": [
        "#<font color=blue>**P19.**</font> ```count()``` – counting things made easy"
      ]
    },
    {
      "cell_type": "markdown",
      "metadata": {
        "id": "CZ9tBWDmw4D-"
      },
      "source": [
        "####**TASK P19.1** <font color= orange>**Complete Rosalind Problem #6  Counting DNA Nucleotides**</font>"
      ]
    },
    {
      "cell_type": "code",
      "execution_count": null,
      "metadata": {},
      "outputs": [],
      "source": []
    },
    {
      "cell_type": "code",
      "execution_count": null,
      "metadata": {
        "id": "GlwS14zGxBIC"
      },
      "outputs": [],
      "source": [
        "count = {'A': 0, 'C': 0, 'G': 0, 'T': 0}\n",
        "\n",
        "with open('rosalind_dna.txt', 'r') as file:\n",
        "    lines = file.read()\n",
        "    for nucleotide in lines:\n",
        "        count[nucleotide] += 1"
      ]
    },
    {
      "cell_type": "markdown",
      "metadata": {
        "id": "rj-OWB6Jym5y"
      },
      "source": [
        "####**TASK P19.2** Modify your code for the Rosalind #5 Dictionary problem so that it uses count( ) to count the words."
      ]
    },
    {
      "cell_type": "code",
      "execution_count": 3,
      "metadata": {
        "id": "9H_S6jLnzfxR"
      },
      "outputs": [
        {
          "name": "stdout",
          "output_type": "stream",
          "text": [
            "up 1\n",
            "When 1\n",
            "Speaking 3\n",
            "the 4\n",
            "night 1\n",
            "myself 1\n",
            "on 1\n",
            "sound 1\n",
            "For 1\n",
            "still 2\n",
            "living 1\n",
            "until 1\n",
            "people 1\n",
            "see 1\n",
            "broken 1\n",
            "parted 1\n",
            "comes 2\n",
            "that 2\n",
            "hour 1\n",
            "my 1\n",
            "front 1\n",
            "be 41\n",
            "they 2\n",
            "agree 1\n",
            "find 1\n",
            "chance 1\n",
            "when 2\n",
            "though 1\n",
            "shines 1\n",
            "wake 1\n",
            "times 1\n",
            "And 3\n",
            "light 1\n",
            "it 36\n",
            "world 1\n",
            "I 2\n",
            "will 5\n",
            "yeah 2\n",
            "tomorrow 1\n",
            "Shine 1\n",
            "trouble 1\n",
            "let 30\n",
            "to 3\n",
            "words 7\n",
            "may 1\n",
            "is 4\n",
            "Mary 2\n",
            "wisdom 7\n",
            "she 1\n",
            "of 11\n",
            "hearted 1\n",
            "standing 1\n",
            "There 4\n",
            "answer 4\n",
            "darkness 1\n",
            "Let 6\n",
            "Whisper 4\n",
            "there 2\n",
            "in 4\n",
            "right 1\n",
            "cloudy 1\n",
            "me 4\n",
            "Mother 2\n",
            "music 1\n",
            "a 2\n",
            "an 4\n"
          ]
        }
      ],
      "source": [
        "with open(r\"E:\\UTA\\BioInformamtics\\Module3\\rosalind_practice_5.txt\", 'r') as file:\n",
        "    text = file.read().split()   # split into words\n",
        "\n",
        "# Get unique words using set()\n",
        "unique_words = set(text)\n",
        "\n",
        "# Count occurrences using .count()\n",
        "for word in unique_words:\n",
        "    print(f\"{word} {text.count(word)}\")\n"
      ]
    },
    {
      "cell_type": "markdown",
      "metadata": {
        "id": "RzMon_wAzg7D"
      },
      "source": [
        "####**<font color=crimson>TASK 19.3 Commit to GitHub**</font>\n"
      ]
    },
    {
      "cell_type": "markdown",
      "metadata": {
        "id": "-IB0c2gG0Z1O"
      },
      "source": [
        "#<font color=blue>**P20.**</font> Installing biopython"
      ]
    },
    {
      "cell_type": "code",
      "execution_count": 67,
      "metadata": {
        "colab": {
          "base_uri": "https://localhost:8080/"
        },
        "id": "pinPQdEn0mJM",
        "outputId": "f5d72982-b3df-405b-d1c5-0978c3e861a1"
      },
      "outputs": [
        {
          "name": "stdout",
          "output_type": "stream",
          "text": [
            "Collecting biopython\n",
            "  Downloading biopython-1.85-cp312-cp312-manylinux_2_17_x86_64.manylinux2014_x86_64.whl.metadata (13 kB)\n",
            "Requirement already satisfied: numpy in /usr/local/lib/python3.12/dist-packages (from biopython) (2.0.2)\n",
            "Downloading biopython-1.85-cp312-cp312-manylinux_2_17_x86_64.manylinux2014_x86_64.whl (3.3 MB)\n",
            "\u001b[2K   \u001b[90m━━━━━━━━━━━━━━━━━━━━━━━━━━━━━━━━━━━━━━━━\u001b[0m \u001b[32m3.3/3.3 MB\u001b[0m \u001b[31m20.9 MB/s\u001b[0m eta \u001b[36m0:00:00\u001b[0m\n",
            "\u001b[?25hInstalling collected packages: biopython\n",
            "Successfully installed biopython-1.85\n"
          ]
        }
      ],
      "source": [
        "!pip install biopython"
      ]
    },
    {
      "cell_type": "code",
      "execution_count": null,
      "metadata": {
        "colab": {
          "base_uri": "https://localhost:8080/"
        },
        "id": "5ccd6f0b",
        "outputId": "e0650d46-1501-47ef-e6c0-98c374646574"
      },
      "outputs": [
        {
          "name": "stdout",
          "output_type": "stream",
          "text": [
            "Biopython is installed correctly.\n"
          ]
        }
      ],
      "source": [
        "try:\n",
        "  from Bio.Seq import Seq\n",
        "  print(\"Biopython is installed correctly.\")\n",
        "except ImportError:\n",
        "  print(\"Biopython is not installed or there was an import error.\")"
      ]
    },
    {
      "cell_type": "markdown",
      "metadata": {
        "id": "IGX-ThdQ3RuA"
      },
      "source": [
        "#<font color=blue>**P21.**</font> Seq( ) – a function to define sequence objects"
      ]
    },
    {
      "cell_type": "code",
      "execution_count": 68,
      "metadata": {
        "id": "ltZBr8mE4OhM"
      },
      "outputs": [],
      "source": [
        "from Bio.Seq import Seq\n",
        "\n",
        "my_sequence = Seq(\"GATGGAACTTGACTACGTAAATT\")"
      ]
    },
    {
      "cell_type": "markdown",
      "metadata": {
        "id": "UXCuEFxg6Jxx"
      },
      "source": [
        "####**TASK BP21.2** <font color=orange> **Complete Rosalind #7 Transcribing DNA into RNA**</font>"
      ]
    },
    {
      "cell_type": "code",
      "execution_count": null,
      "metadata": {
        "id": "UXt6gWLM6qde"
      },
      "outputs": [],
      "source": [
        "with open('rosalind_rna.txt', 'r') as file:\n",
        "    lines = file.read()\n",
        "    for nucleotide in lines:\n",
        "        if nucleotide == 'T':\n",
        "            print('U', end='')\n",
        "        else:\n",
        "            print(nucleotide, end='')"
      ]
    },
    {
      "cell_type": "markdown",
      "metadata": {
        "id": "9P4_MaXp6O3n"
      },
      "source": [
        "####**TASK BP21.2** <font color=orange> **Complete Rosalind #8  Translating RNA into Protein**</font>"
      ]
    },
    {
      "cell_type": "code",
      "execution_count": null,
      "metadata": {
        "id": "5Rzzfzij6q2P"
      },
      "outputs": [],
      "source": [
        "with open('rosalind_prot.txt', 'r') as file:\n",
        "    rna_sequence = file.read().strip()\n",
        "    print(Seq(rna_sequence).translate(to_stop=True))"
      ]
    },
    {
      "cell_type": "markdown",
      "metadata": {
        "id": "dvtR4N7L6sZ_"
      },
      "source": [
        "####**<font color=crimson>TASK 21.3 Commit to GitHub**</font>"
      ]
    },
    {
      "cell_type": "markdown",
      "metadata": {
        "id": "bDJqtRiX3fEG"
      },
      "source": [
        "#<font color=blue>**P22.**</font> SeqIO – a function to parse( ) sequence files"
      ]
    },
    {
      "cell_type": "markdown",
      "metadata": {
        "id": "VKyMhLjx7nIo"
      },
      "source": [
        "####**TASK BP 22.1** Read in the practice dataset from Rosalind #9 and print the id of each sequence in the file."
      ]
    },
    {
      "cell_type": "code",
      "execution_count": 69,
      "metadata": {
        "colab": {
          "base_uri": "https://localhost:8080/"
        },
        "id": "xUi3JEoh7yJ6",
        "outputId": "27387880-5a6e-4957-a5e1-922fc0d19c6d"
      },
      "outputs": [
        {
          "name": "stdout",
          "output_type": "stream",
          "text": [
            "Rosalind_6404\n",
            "CCTGCGGAAGATCGGCACTAGAATAGCCAGAACCGTTTCTCTGAGGCTTCCGGCCTTCCCTCCCACTAATAATTCTGAGG\n",
            "80\n",
            "ID: Rosalind_6404\n",
            "Name: Rosalind_6404\n",
            "Description: Rosalind_6404\n",
            "Number of features: 0\n",
            "Seq('CCTGCGGAAGATCGGCACTAGAATAGCCAGAACCGTTTCTCTGAGGCTTCCGGC...AGG')\n",
            "Rosalind_5959\n",
            "CCATCGGTAGCGCATCCTTAGTCCAATTAAGTCCCTATCCAGGCGCTCCGCCGAAGGTCTATATCCATTTGTCAGCAGACACGC\n",
            "84\n",
            "ID: Rosalind_5959\n",
            "Name: Rosalind_5959\n",
            "Description: Rosalind_5959\n",
            "Number of features: 0\n",
            "Seq('CCATCGGTAGCGCATCCTTAGTCCAATTAAGTCCCTATCCAGGCGCTCCGCCGA...CGC')\n",
            "Rosalind_0808\n",
            "CCACCCTCGTGGTATGGCTAGGCATTCAGGAACCGGAGAACGCTTCAGACCAGCCCGGACTGGGAACCTGCGGGCAGTAGGTGGAAT\n",
            "87\n",
            "ID: Rosalind_0808\n",
            "Name: Rosalind_0808\n",
            "Description: Rosalind_0808\n",
            "Number of features: 0\n",
            "Seq('CCACCCTCGTGGTATGGCTAGGCATTCAGGAACCGGAGAACGCTTCAGACCAGC...AAT')\n"
          ]
        }
      ],
      "source": [
        "from Bio.SeqIO import parse\n",
        "\n",
        "for seq_record in parse(\"practice_9.txt\", \"fasta\"):\n",
        "    print (seq_record.id)\n",
        "    print (seq_record.seq)\n",
        "    print (len(seq_record.seq))\n",
        "    print (seq_record)"
      ]
    },
    {
      "cell_type": "markdown",
      "metadata": {
        "id": "SAjUYBpe3pwi"
      },
      "source": [
        "#<font color=blue>**P23.**</font> SeqUtils.gc_fraction( ) – a function to compute GC content"
      ]
    },
    {
      "cell_type": "code",
      "execution_count": null,
      "metadata": {
        "id": "5HvwTAI9ygq1"
      },
      "outputs": [],
      "source": []
    },
    {
      "cell_type": "markdown",
      "metadata": {
        "id": "kEjUu8HfHniC"
      },
      "source": [
        "####**TASK P23.1** Modify the script from TASK P22.1 so that it prints the GC content for each sequence in the file"
      ]
    },
    {
      "cell_type": "code",
      "execution_count": 82,
      "metadata": {
        "colab": {
          "base_uri": "https://localhost:8080/"
        },
        "id": "a1hFdMmUyiG4",
        "outputId": "6c5133c8-aa09-4dbc-b529-22c45eef23b2"
      },
      "outputs": [
        {
          "name": "stdout",
          "output_type": "stream",
          "text": [
            "Rosalind_6404 53.75\n",
            "Rosalind_5959 53.57142857142857\n",
            "Rosalind_0808 60.91954022988506\n"
          ]
        }
      ],
      "source": [
        "from Bio.SeqUtils import gc_fraction\n",
        "for seq_record in parse(\"practice_9.txt\", \"fasta\"):\n",
        "  print(seq_record.id, gc_fraction(seq_record.seq)*100)"
      ]
    },
    {
      "cell_type": "markdown",
      "metadata": {
        "id": "nJeXcQR7HwOf"
      },
      "source": [
        "####**TASK P23.2** <font color=orange> **Complete Rosalind #9  Computing GC Content**</font>"
      ]
    },
    {
      "cell_type": "markdown",
      "metadata": {
        "id": "gavUUL39INzP"
      },
      "source": [
        "####**<font color=crimson>TASK 23.3 Commit to GitHub**</font>"
      ]
    },
    {
      "cell_type": "markdown",
      "metadata": {
        "id": "Zf_OZq9R0dnq"
      },
      "source": []
    },
    {
      "cell_type": "code",
      "execution_count": 82,
      "metadata": {
        "id": "92b393e1"
      },
      "outputs": [],
      "source": []
    },
    {
      "cell_type": "code",
      "execution_count": null,
      "metadata": {
        "id": "kjjqsfZe2Z-Y"
      },
      "outputs": [],
      "source": []
    }
  ],
  "metadata": {
    "colab": {
      "collapsed_sections": [
        "iupO8iI-ZYAe",
        "lY924yM0jckW",
        "NvqGEl4JjpiO",
        "DHzE7CI4lWGw",
        "WD5wnvQkmh6E",
        "kApNvgOLn8lp",
        "kq9QbEttnA4h"
      ],
      "provenance": []
    },
    "kernelspec": {
      "display_name": "base",
      "language": "python",
      "name": "python3"
    },
    "language_info": {
      "codemirror_mode": {
        "name": "ipython",
        "version": 3
      },
      "file_extension": ".py",
      "mimetype": "text/x-python",
      "name": "python",
      "nbconvert_exporter": "python",
      "pygments_lexer": "ipython3",
      "version": "3.12.7"
    }
  },
  "nbformat": 4,
  "nbformat_minor": 0
}
